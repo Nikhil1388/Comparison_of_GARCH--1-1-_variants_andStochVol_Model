{
 "cells": [
  {
   "cell_type": "markdown",
   "id": "8fbc45b1",
   "metadata": {},
   "source": [
    "# <font color=red> **Comparison of GARCH-(1,1) variants and Stochastic Volatility Model** </font>"
   ]
  },
  {
   "cell_type": "markdown",
   "id": "fd8f599d",
   "metadata": {},
   "source": [
    "## <font color=cyan> Downloading NIFTY50 data from 2007-09-17 upto 2021-12-31 </font>"
   ]
  },
  {
   "cell_type": "code",
   "execution_count": 1,
   "id": "caeede36",
   "metadata": {},
   "outputs": [
    {
     "name": "stderr",
     "output_type": "stream",
     "text": [
      "Registered S3 method overwritten by 'quantmod':\n",
      "  method            from\n",
      "  as.zoo.data.frame zoo \n",
      "\n",
      "\n",
      "Attaching package: 'zoo'\n",
      "\n",
      "\n",
      "The following objects are masked from 'package:base':\n",
      "\n",
      "    as.Date, as.Date.numeric\n",
      "\n",
      "\n",
      "\n",
      "Attaching package: 'rugarch'\n",
      "\n",
      "\n",
      "The following object is masked from 'package:stats':\n",
      "\n",
      "    sigma\n",
      "\n",
      "\n",
      "Warning message:\n",
      "\"^NSEI contains missing values. Some functions will not work if objects contain missing values in the middle of the series. Consider using na.omit(), na.approx(), na.fill(), etc to remove or replace them.\"\n"
     ]
    },
    {
     "name": "stdout",
     "output_type": "stream",
     "text": [
      "time series starts 2007-09-17\n",
      "time series ends   2021-12-31\n"
     ]
    }
   ],
   "source": [
    "#loading required libraries and downloading data using tseries library's get.hist.quote function\n",
    "library(tseries)\n",
    "library(zoo)\n",
    "library(parallel)\n",
    "library(rugarch)\n",
    "library(pbapply)\n",
    "\n",
    "nifty <- get.hist.quote(\"^NSEI\", end=\"2022-01-01\", quote=\"Adjusted\")\n",
    "nifty[!is.na(nifty)] -> nifty\n",
    "\n",
    "logret <- diff(log(nifty))"
   ]
  },
  {
   "cell_type": "code",
   "execution_count": 2,
   "id": "c86432cd",
   "metadata": {},
   "outputs": [],
   "source": [
    "#Saving available GARCH-(1,1) variants in rugarch library to a variable \n",
    "model_name <- c(\"sGARCH\",\"eGARCH\",\"iGARCH\",\"apARCH\",\"gjrGARCH\",\"csGARCH\")"
   ]
  },
  {
   "cell_type": "code",
   "execution_count": 3,
   "id": "5d7431d2",
   "metadata": {},
   "outputs": [
    {
     "name": "stdout",
     "output_type": "stream",
     "text": [
      "  |++++++++++++++++++++++++++++++++++++++++++++++++++| 100% elapsed=00s  \n"
     ]
    },
    {
     "data": {
      "text/plain": [
       "   user  system elapsed \n",
       "   0.16    0.04    0.39 "
      ]
     },
     "metadata": {},
     "output_type": "display_data"
    }
   ],
   "source": [
    "# Using skewed student t-distribution to account for leverage and symmetry effect in financial return series\n",
    "pboptions(type=\"timer\")\n",
    "\n",
    "system.time(uspec <- pblapply(model_name, FUN = function(x){\n",
    "    ugarchspec(variance.model = list(model=x, garchOrder=c(1,1)),\n",
    "               mean.model = list(armaOrder=c(0,0), include.mean=TRUE),\n",
    "               distribution.model = \"sstd\")\n",
    "}))"
   ]
  },
  {
   "cell_type": "code",
   "execution_count": 4,
   "id": "ec0a9a3b",
   "metadata": {},
   "outputs": [
    {
     "data": {
      "text/html": [
       "<dl>\n",
       "\t<dt>$vendor_id</dt>\n",
       "\t\t<dd>'GenuineIntel'</dd>\n",
       "\t<dt>$model_name</dt>\n",
       "\t\t<dd>'Intel(R) Core(TM) i5-10300H CPU @ 2.50GHz'</dd>\n",
       "\t<dt>$no_of_cores</dt>\n",
       "\t\t<dd>8</dd>\n",
       "</dl>\n"
      ],
      "text/latex": [
       "\\begin{description}\n",
       "\\item[\\$vendor\\_id] 'GenuineIntel'\n",
       "\\item[\\$model\\_name] 'Intel(R) Core(TM) i5-10300H CPU @ 2.50GHz'\n",
       "\\item[\\$no\\_of\\_cores] 8\n",
       "\\end{description}\n"
      ],
      "text/markdown": [
       "$vendor_id\n",
       ":   'GenuineIntel'\n",
       "$model_name\n",
       ":   'Intel(R) Core(TM) i5-10300H CPU @ 2.50GHz'\n",
       "$no_of_cores\n",
       ":   8\n",
       "\n",
       "\n"
      ],
      "text/plain": [
       "$vendor_id\n",
       "[1] \"GenuineIntel\"\n",
       "\n",
       "$model_name\n",
       "[1] \"Intel(R) Core(TM) i5-10300H CPU @ 2.50GHz\"\n",
       "\n",
       "$no_of_cores\n",
       "[1] 8\n"
      ]
     },
     "metadata": {},
     "output_type": "display_data"
    }
   ],
   "source": [
    "#Checking number of cores available for parallel computing\n",
    "library(benchmarkme)\n",
    "\n",
    "benchmarkme::get_cpu()"
   ]
  },
  {
   "cell_type": "code",
   "execution_count": 5,
   "id": "90ef83c7",
   "metadata": {},
   "outputs": [
    {
     "data": {
      "text/html": [
       "3250"
      ],
      "text/latex": [
       "3250"
      ],
      "text/markdown": [
       "3250"
      ],
      "text/plain": [
       "[1] 3250"
      ]
     },
     "metadata": {},
     "output_type": "display_data"
    },
    {
     "name": "stdout",
     "output_type": "stream",
     "text": [
      "  |++++++++++++++++++++++++++++++++++++++++++++++++++| 100% elapsed=09m 39s\n"
     ]
    },
    {
     "data": {
      "text/plain": [
       "   user  system elapsed \n",
       "   0.25    0.64  579.19 "
      ]
     },
     "metadata": {},
     "output_type": "display_data"
    }
   ],
   "source": [
    "#Making clusters for parallel computing \n",
    "cl = makePSOCKcluster(8)\n",
    "\n",
    "#Estimating VaR at 90%,95% and 99% confidence intervals for backtesting on NIFTY50 returns for various GARCH models\n",
    "which(index(logret)==\"2020-12-31\")\n",
    "system.time(VaR_nifty_2021 <- pblapply(uspec, FUN = function(x){\n",
    "              roll.garch  <-    ugarchroll(x,\n",
    "                                data=logret,\n",
    "                                n.ahead = 1,\n",
    "                                forecast.length = 1,\n",
    "                                n.start = 3250,\n",
    "                                refit.every = 1,\n",
    "                                refit.window = \"recursive\",\n",
    "                                calculate.VaR = T,\n",
    "                                VaR.alpha = c(0.1,0.05,0.01),\n",
    "                                cluster = cl,\n",
    "                                keep.coef=T)\n",
    "             roll.garch@forecast$VaR\n",
    "}))"
   ]
  },
  {
   "cell_type": "code",
   "execution_count": 6,
   "id": "da65fa36",
   "metadata": {},
   "outputs": [],
   "source": [
    "#Saving available sub-variants of FGARCH model to a variable\n",
    "submodels_fgarch <- c(\"GARCH\",\"TGARCH\",\"AVGARCH\",\"NGARCH\",\"NAGARCH\",\"APARCH\",\"GJRGARCH\",\"ALLGARCH\")"
   ]
  },
  {
   "cell_type": "code",
   "execution_count": 7,
   "id": "07d0c4f4",
   "metadata": {},
   "outputs": [
    {
     "name": "stdout",
     "output_type": "stream",
     "text": [
      "  |++++++++++++++++++++++++++++++++++++++++++++++++++| 100% elapsed=00s  \n"
     ]
    },
    {
     "data": {
      "text/plain": [
       "   user  system elapsed \n",
       "   0.02    0.00    0.03 "
      ]
     },
     "metadata": {},
     "output_type": "display_data"
    }
   ],
   "source": [
    "#Making a list of ugarchspec objects for various fGARCH variants\n",
    "system.time(uspecs_fgarch <- pblapply(submodels_fgarch, FUN = function(x){\n",
    "    ugarchspec(variance.model = list(model=\"fGARCH\", garchOrder=c(1,1), submodel = x),\n",
    "               mean.model = list(armaOrder=c(0,0), include.mean=TRUE),\n",
    "               distribution.model = \"sstd\")\n",
    "}))"
   ]
  },
  {
   "cell_type": "code",
   "execution_count": 8,
   "id": "2503a44e",
   "metadata": {},
   "outputs": [
    {
     "name": "stdout",
     "output_type": "stream",
     "text": [
      "  |++++++++++++++++++++++++++++++++++++++++++++++++++| 100% elapsed=20m 32s\n"
     ]
    },
    {
     "data": {
      "text/plain": [
       "   user  system elapsed \n",
       "   0.39    0.36 1232.37 "
      ]
     },
     "metadata": {},
     "output_type": "display_data"
    }
   ],
   "source": [
    "# Estimating VaR at 90%,95% and 99% confidence intervals for NIFTY50 returns for various fGARCH variants\n",
    "system.time(VaR_nifty_fgarch_2021 <- pblapply(uspecs_fgarch, FUN = function(x){\n",
    "              roll.garch  <-    ugarchroll(x,\n",
    "                                data=logret,\n",
    "                                n.ahead = 1,\n",
    "                                forecast.length = 1,\n",
    "                                n.start = 3250,\n",
    "                                refit.every = 1,\n",
    "                                refit.window = \"recursive\",\n",
    "                                calculate.VaR = T,\n",
    "                                VaR.alpha = c(0.1,0.05,0.01),\n",
    "                                cluster = cl,\n",
    "                                keep.coef=T)\n",
    "             roll.garch@forecast$VaR\n",
    "}))"
   ]
  },
  {
   "cell_type": "code",
   "execution_count": 9,
   "id": "71c818b9",
   "metadata": {},
   "outputs": [
    {
     "data": {
      "text/html": [
       "<table class=\"dataframe\">\n",
       "<caption>A matrix: 2 × 6 of type dbl</caption>\n",
       "<thead>\n",
       "\t<tr><th></th><th scope=col>used</th><th scope=col>(Mb)</th><th scope=col>gc trigger</th><th scope=col>(Mb)</th><th scope=col>max used</th><th scope=col>(Mb)</th></tr>\n",
       "</thead>\n",
       "<tbody>\n",
       "\t<tr><th scope=row>Ncells</th><td>2487092</td><td>132.9</td><td> 4572895</td><td>244.3</td><td> 4572895</td><td>244.3</td></tr>\n",
       "\t<tr><th scope=row>Vcells</th><td>6548927</td><td> 50.0</td><td>12255594</td><td> 93.6</td><td>11967494</td><td> 91.4</td></tr>\n",
       "</tbody>\n",
       "</table>\n"
      ],
      "text/latex": [
       "A matrix: 2 × 6 of type dbl\n",
       "\\begin{tabular}{r|llllll}\n",
       "  & used & (Mb) & gc trigger & (Mb) & max used & (Mb)\\\\\n",
       "\\hline\n",
       "\tNcells & 2487092 & 132.9 &  4572895 & 244.3 &  4572895 & 244.3\\\\\n",
       "\tVcells & 6548927 &  50.0 & 12255594 &  93.6 & 11967494 &  91.4\\\\\n",
       "\\end{tabular}\n"
      ],
      "text/markdown": [
       "\n",
       "A matrix: 2 × 6 of type dbl\n",
       "\n",
       "| <!--/--> | used | (Mb) | gc trigger | (Mb) | max used | (Mb) |\n",
       "|---|---|---|---|---|---|---|\n",
       "| Ncells | 2487092 | 132.9 |  4572895 | 244.3 |  4572895 | 244.3 |\n",
       "| Vcells | 6548927 |  50.0 | 12255594 |  93.6 | 11967494 |  91.4 |\n",
       "\n"
      ],
      "text/plain": [
       "       used    (Mb)  gc trigger (Mb)  max used (Mb) \n",
       "Ncells 2487092 132.9  4572895   244.3  4572895 244.3\n",
       "Vcells 6548927  50.0 12255594    93.6 11967494  91.4"
      ]
     },
     "metadata": {},
     "output_type": "display_data"
    }
   ],
   "source": [
    "gc()"
   ]
  },
  {
   "cell_type": "code",
   "execution_count": 10,
   "id": "ff5bd431",
   "metadata": {},
   "outputs": [
    {
     "name": "stderr",
     "output_type": "stream",
     "text": [
      "Done!\n",
      "\n",
      "Summarizing posterior draws...\n",
      "\n",
      "Done!\n",
      "\n",
      "Summarizing posterior draws...\n",
      "\n",
      "Done!\n",
      "\n",
      "Summarizing posterior draws...\n",
      "\n",
      "Done!\n",
      "\n",
      "Summarizing posterior draws...\n",
      "\n",
      "Done!\n",
      "\n",
      "Summarizing posterior draws...\n",
      "\n",
      "Done!\n",
      "\n",
      "Summarizing posterior draws...\n",
      "\n",
      "Done!\n",
      "\n",
      "Summarizing posterior draws...\n",
      "\n",
      "Done!\n",
      "\n",
      "Summarizing posterior draws...\n",
      "\n",
      "Done!\n",
      "\n",
      "Summarizing posterior draws...\n",
      "\n",
      "Done!\n",
      "\n",
      "Summarizing posterior draws...\n",
      "\n",
      "Done!\n",
      "\n",
      "Summarizing posterior draws...\n",
      "\n",
      "Done!\n",
      "\n",
      "Summarizing posterior draws...\n",
      "\n",
      "Done!\n",
      "\n",
      "Summarizing posterior draws...\n",
      "\n",
      "Done!\n",
      "\n",
      "Summarizing posterior draws...\n",
      "\n",
      "Done!\n",
      "\n",
      "Summarizing posterior draws...\n",
      "\n",
      "Done!\n",
      "\n",
      "Summarizing posterior draws...\n",
      "\n",
      "Done!\n",
      "\n",
      "Summarizing posterior draws...\n",
      "\n",
      "Done!\n",
      "\n",
      "Summarizing posterior draws...\n",
      "\n",
      "Done!\n",
      "\n",
      "Summarizing posterior draws...\n",
      "\n",
      "Done!\n",
      "\n",
      "Summarizing posterior draws...\n",
      "\n",
      "Done!\n",
      "\n",
      "Summarizing posterior draws...\n",
      "\n",
      "Done!\n",
      "\n",
      "Summarizing posterior draws...\n",
      "\n",
      "Done!\n",
      "\n",
      "Summarizing posterior draws...\n",
      "\n",
      "Done!\n",
      "\n",
      "Summarizing posterior draws...\n",
      "\n",
      "Done!\n",
      "\n",
      "Summarizing posterior draws...\n",
      "\n",
      "Done!\n",
      "\n",
      "Summarizing posterior draws...\n",
      "\n",
      "Done!\n",
      "\n",
      "Summarizing posterior draws...\n",
      "\n",
      "Done!\n",
      "\n",
      "Summarizing posterior draws...\n",
      "\n",
      "Done!\n",
      "\n",
      "Summarizing posterior draws...\n",
      "\n",
      "Done!\n",
      "\n",
      "Summarizing posterior draws...\n",
      "\n",
      "Done!\n",
      "\n",
      "Summarizing posterior draws...\n",
      "\n",
      "Done!\n",
      "\n",
      "Summarizing posterior draws...\n",
      "\n",
      "Done!\n",
      "\n",
      "Summarizing posterior draws...\n",
      "\n",
      "Done!\n",
      "\n",
      "Summarizing posterior draws...\n",
      "\n",
      "Done!\n",
      "\n",
      "Summarizing posterior draws...\n",
      "\n",
      "Done!\n",
      "\n",
      "Summarizing posterior draws...\n",
      "\n",
      "Done!\n",
      "\n",
      "Summarizing posterior draws...\n",
      "\n",
      "Done!\n",
      "\n",
      "Summarizing posterior draws...\n",
      "\n",
      "Done!\n",
      "\n",
      "Summarizing posterior draws...\n",
      "\n",
      "Done!\n",
      "\n",
      "Summarizing posterior draws...\n",
      "\n",
      "Done!\n",
      "\n",
      "Summarizing posterior draws...\n",
      "\n",
      "Done!\n",
      "\n",
      "Summarizing posterior draws...\n",
      "\n",
      "Done!\n",
      "\n",
      "Summarizing posterior draws...\n",
      "\n",
      "Done!\n",
      "\n",
      "Summarizing posterior draws...\n",
      "\n",
      "Done!\n",
      "\n",
      "Summarizing posterior draws...\n",
      "\n",
      "Done!\n",
      "\n",
      "Summarizing posterior draws...\n",
      "\n",
      "Done!\n",
      "\n",
      "Summarizing posterior draws...\n",
      "\n",
      "Done!\n",
      "\n",
      "Summarizing posterior draws...\n",
      "\n",
      "Done!\n",
      "\n",
      "Summarizing posterior draws...\n",
      "\n",
      "Done!\n",
      "\n",
      "Summarizing posterior draws...\n",
      "\n",
      "Done!\n",
      "\n",
      "Summarizing posterior draws...\n",
      "\n",
      "Done!\n",
      "\n",
      "Summarizing posterior draws...\n",
      "\n",
      "Done!\n",
      "\n",
      "Summarizing posterior draws...\n",
      "\n",
      "Done!\n",
      "\n",
      "Summarizing posterior draws...\n",
      "\n",
      "Done!\n",
      "\n",
      "Summarizing posterior draws...\n",
      "\n",
      "Done!\n",
      "\n",
      "Summarizing posterior draws...\n",
      "\n",
      "Done!\n",
      "\n",
      "Summarizing posterior draws...\n",
      "\n",
      "Done!\n",
      "\n",
      "Summarizing posterior draws...\n",
      "\n",
      "Done!\n",
      "\n",
      "Summarizing posterior draws...\n",
      "\n",
      "Done!\n",
      "\n",
      "Summarizing posterior draws...\n",
      "\n",
      "Done!\n",
      "\n",
      "Summarizing posterior draws...\n",
      "\n",
      "Done!\n",
      "\n",
      "Summarizing posterior draws...\n",
      "\n",
      "Done!\n",
      "\n",
      "Summarizing posterior draws...\n",
      "\n",
      "Done!\n",
      "\n",
      "Summarizing posterior draws...\n",
      "\n",
      "Done!\n",
      "\n",
      "Summarizing posterior draws...\n",
      "\n",
      "Done!\n",
      "\n",
      "Summarizing posterior draws...\n",
      "\n",
      "Done!\n",
      "\n",
      "Summarizing posterior draws...\n",
      "\n",
      "Done!\n",
      "\n",
      "Summarizing posterior draws...\n",
      "\n",
      "Done!\n",
      "\n",
      "Summarizing posterior draws...\n",
      "\n",
      "Done!\n",
      "\n",
      "Summarizing posterior draws...\n",
      "\n",
      "Done!\n",
      "\n",
      "Summarizing posterior draws...\n",
      "\n",
      "Done!\n",
      "\n",
      "Summarizing posterior draws...\n",
      "\n",
      "Done!\n",
      "\n",
      "Summarizing posterior draws...\n",
      "\n",
      "Done!\n",
      "\n",
      "Summarizing posterior draws...\n",
      "\n",
      "Done!\n",
      "\n",
      "Summarizing posterior draws...\n",
      "\n",
      "Done!\n",
      "\n",
      "Summarizing posterior draws...\n",
      "\n",
      "Done!\n",
      "\n",
      "Summarizing posterior draws...\n",
      "\n",
      "Done!\n",
      "\n",
      "Summarizing posterior draws...\n",
      "\n",
      "Done!\n",
      "\n",
      "Summarizing posterior draws...\n",
      "\n",
      "Done!\n",
      "\n",
      "Summarizing posterior draws...\n",
      "\n",
      "Done!\n",
      "\n",
      "Summarizing posterior draws...\n",
      "\n",
      "Done!\n",
      "\n",
      "Summarizing posterior draws...\n",
      "\n",
      "Done!\n",
      "\n",
      "Summarizing posterior draws...\n",
      "\n",
      "Done!\n",
      "\n",
      "Summarizing posterior draws...\n",
      "\n",
      "Done!\n",
      "\n",
      "Summarizing posterior draws...\n",
      "\n",
      "Done!\n",
      "\n",
      "Summarizing posterior draws...\n",
      "\n",
      "Done!\n",
      "\n",
      "Summarizing posterior draws...\n",
      "\n",
      "Done!\n",
      "\n",
      "Summarizing posterior draws...\n",
      "\n",
      "Done!\n",
      "\n",
      "Summarizing posterior draws...\n",
      "\n",
      "Done!\n",
      "\n",
      "Summarizing posterior draws...\n",
      "\n",
      "Done!\n",
      "\n",
      "Summarizing posterior draws...\n",
      "\n",
      "Done!\n",
      "\n",
      "Summarizing posterior draws...\n",
      "\n",
      "Done!\n",
      "\n",
      "Summarizing posterior draws...\n",
      "\n",
      "Done!\n",
      "\n",
      "Summarizing posterior draws...\n",
      "\n",
      "Done!\n",
      "\n",
      "Summarizing posterior draws...\n",
      "\n",
      "Done!\n",
      "\n",
      "Summarizing posterior draws...\n",
      "\n",
      "Done!\n",
      "\n",
      "Summarizing posterior draws...\n",
      "\n",
      "Done!\n",
      "\n",
      "Summarizing posterior draws...\n",
      "\n",
      "Done!\n",
      "\n",
      "Summarizing posterior draws...\n",
      "\n",
      "Done!\n",
      "\n",
      "Summarizing posterior draws...\n",
      "\n",
      "Done!\n",
      "\n",
      "Summarizing posterior draws...\n",
      "\n",
      "Done!\n",
      "\n",
      "Summarizing posterior draws...\n",
      "\n",
      "Done!\n",
      "\n",
      "Summarizing posterior draws...\n",
      "\n",
      "Done!\n",
      "\n",
      "Summarizing posterior draws...\n",
      "\n",
      "Done!\n",
      "\n",
      "Summarizing posterior draws...\n",
      "\n",
      "Done!\n",
      "\n",
      "Summarizing posterior draws...\n",
      "\n",
      "Done!\n",
      "\n",
      "Summarizing posterior draws...\n",
      "\n",
      "Done!\n",
      "\n",
      "Summarizing posterior draws...\n",
      "\n",
      "Done!\n",
      "\n",
      "Summarizing posterior draws...\n",
      "\n",
      "Done!\n",
      "\n",
      "Summarizing posterior draws...\n",
      "\n",
      "Done!\n",
      "\n",
      "Summarizing posterior draws...\n",
      "\n",
      "Done!\n",
      "\n",
      "Summarizing posterior draws...\n",
      "\n",
      "Done!\n",
      "\n",
      "Summarizing posterior draws...\n",
      "\n",
      "Done!\n",
      "\n",
      "Summarizing posterior draws...\n",
      "\n",
      "Done!\n",
      "\n",
      "Summarizing posterior draws...\n",
      "\n",
      "Done!\n",
      "\n",
      "Summarizing posterior draws...\n",
      "\n",
      "Done!\n",
      "\n",
      "Summarizing posterior draws...\n",
      "\n",
      "Done!\n",
      "\n",
      "Summarizing posterior draws...\n",
      "\n",
      "Done!\n",
      "\n",
      "Summarizing posterior draws...\n",
      "\n",
      "Done!\n",
      "\n",
      "Summarizing posterior draws...\n",
      "\n",
      "Done!\n",
      "\n",
      "Summarizing posterior draws...\n",
      "\n",
      "Done!\n",
      "\n",
      "Summarizing posterior draws...\n",
      "\n",
      "Done!\n",
      "\n",
      "Summarizing posterior draws...\n",
      "\n",
      "Done!\n",
      "\n",
      "Summarizing posterior draws...\n",
      "\n",
      "Done!\n",
      "\n",
      "Summarizing posterior draws...\n",
      "\n",
      "Done!\n",
      "\n",
      "Summarizing posterior draws...\n",
      "\n",
      "Done!\n",
      "\n",
      "Summarizing posterior draws...\n",
      "\n",
      "Done!\n",
      "\n",
      "Summarizing posterior draws...\n",
      "\n",
      "Done!\n",
      "\n",
      "Summarizing posterior draws...\n",
      "\n",
      "Done!\n",
      "\n",
      "Summarizing posterior draws...\n",
      "\n",
      "Done!\n",
      "\n",
      "Summarizing posterior draws...\n",
      "\n",
      "Done!\n",
      "\n",
      "Summarizing posterior draws...\n",
      "\n",
      "Done!\n",
      "\n",
      "Summarizing posterior draws...\n",
      "\n",
      "Done!\n",
      "\n",
      "Summarizing posterior draws...\n",
      "\n",
      "Done!\n",
      "\n",
      "Summarizing posterior draws...\n",
      "\n",
      "Done!\n",
      "\n",
      "Summarizing posterior draws...\n",
      "\n",
      "Done!\n",
      "\n",
      "Summarizing posterior draws...\n",
      "\n",
      "Done!\n",
      "\n",
      "Summarizing posterior draws...\n",
      "\n",
      "Done!\n",
      "\n",
      "Summarizing posterior draws...\n",
      "\n",
      "Done!\n",
      "\n",
      "Summarizing posterior draws...\n",
      "\n",
      "Done!\n",
      "\n",
      "Summarizing posterior draws...\n",
      "\n",
      "Done!\n",
      "\n",
      "Summarizing posterior draws...\n",
      "\n",
      "Done!\n",
      "\n",
      "Summarizing posterior draws...\n",
      "\n",
      "Done!\n",
      "\n",
      "Summarizing posterior draws...\n",
      "\n",
      "Done!\n",
      "\n",
      "Summarizing posterior draws...\n",
      "\n",
      "Done!\n",
      "\n",
      "Summarizing posterior draws...\n",
      "\n",
      "Done!\n",
      "\n",
      "Summarizing posterior draws...\n",
      "\n",
      "Done!\n",
      "\n",
      "Summarizing posterior draws...\n",
      "\n",
      "Done!\n",
      "\n",
      "Summarizing posterior draws...\n",
      "\n",
      "Done!\n",
      "\n",
      "Summarizing posterior draws...\n",
      "\n",
      "Done!\n",
      "\n",
      "Summarizing posterior draws...\n",
      "\n",
      "Done!\n",
      "\n",
      "Summarizing posterior draws...\n",
      "\n",
      "Done!\n",
      "\n",
      "Summarizing posterior draws...\n",
      "\n",
      "Done!\n",
      "\n",
      "Summarizing posterior draws...\n",
      "\n",
      "Done!\n",
      "\n",
      "Summarizing posterior draws...\n",
      "\n",
      "Done!\n",
      "\n",
      "Summarizing posterior draws...\n",
      "\n",
      "Done!\n",
      "\n",
      "Summarizing posterior draws...\n",
      "\n",
      "Done!\n",
      "\n",
      "Summarizing posterior draws...\n",
      "\n",
      "Done!\n",
      "\n",
      "Summarizing posterior draws...\n",
      "\n",
      "Done!\n",
      "\n",
      "Summarizing posterior draws...\n",
      "\n",
      "Done!\n",
      "\n",
      "Summarizing posterior draws...\n",
      "\n",
      "Done!\n",
      "\n",
      "Summarizing posterior draws...\n",
      "\n",
      "Done!\n",
      "\n",
      "Summarizing posterior draws...\n",
      "\n",
      "Done!\n",
      "\n",
      "Summarizing posterior draws...\n",
      "\n",
      "Done!\n",
      "\n",
      "Summarizing posterior draws...\n",
      "\n",
      "Done!\n",
      "\n",
      "Summarizing posterior draws...\n",
      "\n",
      "Done!\n",
      "\n",
      "Summarizing posterior draws...\n",
      "\n",
      "Done!\n",
      "\n",
      "Summarizing posterior draws...\n",
      "\n",
      "Done!\n",
      "\n",
      "Summarizing posterior draws...\n",
      "\n",
      "Done!\n",
      "\n",
      "Summarizing posterior draws...\n",
      "\n",
      "Done!\n",
      "\n",
      "Summarizing posterior draws...\n",
      "\n",
      "Done!\n",
      "\n",
      "Summarizing posterior draws...\n",
      "\n",
      "Done!\n",
      "\n",
      "Summarizing posterior draws...\n",
      "\n",
      "Done!\n",
      "\n",
      "Summarizing posterior draws...\n",
      "\n",
      "Done!\n",
      "\n",
      "Summarizing posterior draws...\n",
      "\n",
      "Done!\n",
      "\n",
      "Summarizing posterior draws...\n",
      "\n",
      "Done!\n",
      "\n",
      "Summarizing posterior draws...\n",
      "\n",
      "Done!\n",
      "\n",
      "Summarizing posterior draws...\n",
      "\n",
      "Done!\n",
      "\n",
      "Summarizing posterior draws...\n",
      "\n",
      "Done!\n",
      "\n",
      "Summarizing posterior draws...\n",
      "\n",
      "Done!\n",
      "\n",
      "Summarizing posterior draws...\n",
      "\n",
      "Done!\n",
      "\n",
      "Summarizing posterior draws...\n",
      "\n",
      "Done!\n",
      "\n",
      "Summarizing posterior draws...\n",
      "\n",
      "Done!\n",
      "\n",
      "Summarizing posterior draws...\n",
      "\n",
      "Done!\n",
      "\n",
      "Summarizing posterior draws...\n",
      "\n",
      "Done!\n",
      "\n",
      "Summarizing posterior draws...\n",
      "\n",
      "Done!\n",
      "\n",
      "Summarizing posterior draws...\n",
      "\n",
      "Done!\n",
      "\n",
      "Summarizing posterior draws...\n",
      "\n",
      "Done!\n",
      "\n",
      "Summarizing posterior draws...\n",
      "\n",
      "Done!\n",
      "\n",
      "Summarizing posterior draws...\n",
      "\n",
      "Done!\n",
      "\n",
      "Summarizing posterior draws...\n",
      "\n",
      "Done!\n",
      "\n",
      "Summarizing posterior draws...\n",
      "\n",
      "Done!\n",
      "\n",
      "Summarizing posterior draws...\n",
      "\n",
      "Done!\n",
      "\n",
      "Summarizing posterior draws...\n",
      "\n",
      "Done!\n",
      "\n",
      "Summarizing posterior draws...\n",
      "\n",
      "Done!\n",
      "\n",
      "Summarizing posterior draws...\n",
      "\n",
      "Done!\n",
      "\n",
      "Summarizing posterior draws...\n",
      "\n",
      "Done!\n",
      "\n",
      "Summarizing posterior draws...\n",
      "\n",
      "Done!\n",
      "\n",
      "Summarizing posterior draws...\n",
      "\n",
      "Done!\n",
      "\n",
      "Summarizing posterior draws...\n",
      "\n",
      "Done!\n",
      "\n",
      "Summarizing posterior draws...\n",
      "\n",
      "Done!\n",
      "\n",
      "Summarizing posterior draws...\n",
      "\n",
      "Done!\n",
      "\n",
      "Summarizing posterior draws...\n",
      "\n",
      "Done!\n",
      "\n",
      "Summarizing posterior draws...\n",
      "\n",
      "Done!\n",
      "\n",
      "Summarizing posterior draws...\n",
      "\n",
      "Done!\n",
      "\n",
      "Summarizing posterior draws...\n",
      "\n",
      "Done!\n",
      "\n",
      "Summarizing posterior draws...\n",
      "\n",
      "Done!\n",
      "\n",
      "Summarizing posterior draws...\n",
      "\n",
      "Done!\n",
      "\n",
      "Summarizing posterior draws...\n",
      "\n",
      "Done!\n",
      "\n",
      "Summarizing posterior draws...\n",
      "\n",
      "Done!\n",
      "\n"
     ]
    },
    {
     "name": "stderr",
     "output_type": "stream",
     "text": [
      "Summarizing posterior draws...\n",
      "\n",
      "Done!\n",
      "\n",
      "Summarizing posterior draws...\n",
      "\n",
      "Done!\n",
      "\n",
      "Summarizing posterior draws...\n",
      "\n",
      "Done!\n",
      "\n",
      "Summarizing posterior draws...\n",
      "\n",
      "Done!\n",
      "\n",
      "Summarizing posterior draws...\n",
      "\n",
      "Done!\n",
      "\n",
      "Summarizing posterior draws...\n",
      "\n",
      "Done!\n",
      "\n",
      "Summarizing posterior draws...\n",
      "\n",
      "Done!\n",
      "\n",
      "Summarizing posterior draws...\n",
      "\n",
      "Done!\n",
      "\n",
      "Summarizing posterior draws...\n",
      "\n",
      "Done!\n",
      "\n",
      "Summarizing posterior draws...\n",
      "\n",
      "Done!\n",
      "\n",
      "Summarizing posterior draws...\n",
      "\n",
      "Done!\n",
      "\n",
      "Summarizing posterior draws...\n",
      "\n",
      "Done!\n",
      "\n",
      "Summarizing posterior draws...\n",
      "\n",
      "Done!\n",
      "\n",
      "Summarizing posterior draws...\n",
      "\n",
      "Done!\n",
      "\n",
      "Summarizing posterior draws...\n",
      "\n",
      "Done!\n",
      "\n",
      "Summarizing posterior draws...\n",
      "\n",
      "Done!\n",
      "\n",
      "Summarizing posterior draws...\n",
      "\n",
      "Done!\n",
      "\n",
      "Summarizing posterior draws...\n",
      "\n",
      "Done!\n",
      "\n",
      "Summarizing posterior draws...\n",
      "\n",
      "Done!\n",
      "\n",
      "Summarizing posterior draws...\n",
      "\n",
      "Done!\n",
      "\n",
      "Summarizing posterior draws...\n",
      "\n",
      "Done!\n",
      "\n",
      "Summarizing posterior draws...\n",
      "\n",
      "Done!\n",
      "\n",
      "Summarizing posterior draws...\n",
      "\n",
      "Done!\n",
      "\n",
      "Summarizing posterior draws...\n",
      "\n",
      "Done!\n",
      "\n",
      "Summarizing posterior draws...\n",
      "\n",
      "Done!\n",
      "\n",
      "Summarizing posterior draws...\n",
      "\n",
      "Done!\n",
      "\n",
      "Summarizing posterior draws...\n",
      "\n",
      "Done!\n",
      "\n",
      "Summarizing posterior draws...\n",
      "\n",
      "Done!\n",
      "\n",
      "Summarizing posterior draws...\n",
      "\n",
      "Done!\n",
      "\n",
      "Summarizing posterior draws...\n",
      "\n",
      "Done!\n",
      "\n",
      "Summarizing posterior draws...\n",
      "\n",
      "Done!\n",
      "\n",
      "Summarizing posterior draws...\n",
      "\n",
      "Done!\n",
      "\n",
      "Summarizing posterior draws...\n",
      "\n",
      "Done!\n",
      "\n",
      "Summarizing posterior draws...\n",
      "\n",
      "Done!\n",
      "\n",
      "Summarizing posterior draws...\n",
      "\n",
      "Done!\n",
      "\n",
      "Summarizing posterior draws...\n",
      "\n",
      "Done!\n",
      "\n",
      "Summarizing posterior draws...\n",
      "\n",
      "Done!\n",
      "\n",
      "Summarizing posterior draws...\n",
      "\n"
     ]
    },
    {
     "data": {
      "text/plain": [
       "    user   system  elapsed \n",
       " 5137.19   212.15 13516.05 "
      ]
     },
     "metadata": {},
     "output_type": "display_data"
    }
   ],
   "source": [
    "library(stochvol)\n",
    "\n",
    "# Calling MCMC (Markov Chain Monte Carlo) sampler with 11,000 iterations for Stochastic Volatility Forecasting\n",
    "system.time(VaR_nifty_stochvol_2021 <- svtlsample_roll(y=logret,\n",
    "                                                      designmatrix=\"ar1\",\n",
    "                                                      n_ahead=1,\n",
    "                                                      forecast_length=1,\n",
    "                                                      n_start=3250,\n",
    "                                                      refit_every=1,\n",
    "                                                      refit_window=\"expanding\",\n",
    "                                                      calculate_quantile=c(0.1,0.05,0.01),\n",
    "                                                      calculate_predictive_likelihood=TRUE,\n",
    "                                                      parallel = \"multicore\",\n",
    "                                                      cl = cl,\n",
    "                                                      ))\n"
   ]
  },
  {
   "cell_type": "code",
   "execution_count": 11,
   "id": "38a5961e",
   "metadata": {},
   "outputs": [],
   "source": [
    "# Saving R Workspace for backup\n",
    "save.image(\"GARCH_variants_and_stochvol_model.RData\")"
   ]
  },
  {
   "cell_type": "markdown",
   "id": "27704c3e",
   "metadata": {},
   "source": [
    "# <font color = green> **Aggregating data into data tables for Comparative Analysis of Results** </font>"
   ]
  },
  {
   "cell_type": "code",
   "execution_count": 13,
   "id": "7b819f56",
   "metadata": {},
   "outputs": [
    {
     "name": "stderr",
     "output_type": "stream",
     "text": [
      "\n",
      "Attaching package: 'data.table'\n",
      "\n",
      "\n",
      "The following object is masked _by_ '.GlobalEnv':\n",
      "\n",
      "    .N\n",
      "\n",
      "\n"
     ]
    }
   ],
   "source": [
    "library(data.table)\n",
    "VaR_nifty50_stochvol_2021 <- rbindlist(lapply(VaR_nifty_stochvol_2021, FUN = function(x){as.data.table(t(x$predicted_quantile))}))"
   ]
  },
  {
   "cell_type": "code",
   "execution_count": 14,
   "id": "f9c3c5a3",
   "metadata": {},
   "outputs": [],
   "source": [
    "VaR_nifty50_stochvol_2021[,realized:=logret[3251:3498]]"
   ]
  },
  {
   "cell_type": "code",
   "execution_count": 15,
   "id": "d5cb90b6",
   "metadata": {},
   "outputs": [
    {
     "data": {
      "text/html": [
       "<style>\n",
       ".dl-inline {width: auto; margin:0; padding: 0}\n",
       ".dl-inline>dt, .dl-inline>dd {float: none; width: auto; display: inline-block}\n",
       ".dl-inline>dt::after {content: \":\\0020\"; padding-right: .5ex}\n",
       ".dl-inline>dt:not(:first-of-type) {padding-left: .5ex}\n",
       "</style><dl class=dl-inline><dt>10%</dt><dd>'numeric'</dd><dt>5%</dt><dd>'numeric'</dd><dt>1%</dt><dd>'numeric'</dd><dt>realized</dt><dd>'zoo'</dd></dl>\n"
      ],
      "text/latex": [
       "\\begin{description*}\n",
       "\\item[10\\textbackslash{}\\%] 'numeric'\n",
       "\\item[5\\textbackslash{}\\%] 'numeric'\n",
       "\\item[1\\textbackslash{}\\%] 'numeric'\n",
       "\\item[realized] 'zoo'\n",
       "\\end{description*}\n"
      ],
      "text/markdown": [
       "10%\n",
       ":   'numeric'5%\n",
       ":   'numeric'1%\n",
       ":   'numeric'realized\n",
       ":   'zoo'\n",
       "\n"
      ],
      "text/plain": [
       "      10%        5%        1%  realized \n",
       "\"numeric\" \"numeric\" \"numeric\"     \"zoo\" "
      ]
     },
     "metadata": {},
     "output_type": "display_data"
    }
   ],
   "source": [
    "sapply(VaR_nifty50_stochvol_2021, class)"
   ]
  },
  {
   "cell_type": "code",
   "execution_count": 17,
   "id": "5de61fa0",
   "metadata": {},
   "outputs": [
    {
     "data": {
      "text/html": [
       "<table class=\"dataframe\">\n",
       "<caption>A data.table: 10 × 4</caption>\n",
       "<thead>\n",
       "\t<tr><th scope=col>10%</th><th scope=col>5%</th><th scope=col>1%</th><th scope=col>realized</th></tr>\n",
       "\t<tr><th scope=col>&lt;dbl&gt;</th><th scope=col>&lt;dbl&gt;</th><th scope=col>&lt;dbl&gt;</th><th scope=col>&lt;dbl&gt;</th></tr>\n",
       "</thead>\n",
       "<tbody>\n",
       "\t<tr><td>-0.009681939</td><td>-0.01313713</td><td>-0.02104849</td><td> 2.624978e-03</td></tr>\n",
       "\t<tr><td>-0.009215796</td><td>-0.01236611</td><td>-0.02090738</td><td> 8.127555e-03</td></tr>\n",
       "\t<tr><td>-0.009224827</td><td>-0.01264877</td><td>-0.02027644</td><td> 4.701312e-03</td></tr>\n",
       "\t<tr><td>-0.009098872</td><td>-0.01253075</td><td>-0.02076290</td><td>-3.757181e-03</td></tr>\n",
       "\t<tr><td>-0.009324913</td><td>-0.01257106</td><td>-0.02039714</td><td>-6.293676e-04</td></tr>\n",
       "\t<tr><td>-0.009253357</td><td>-0.01279029</td><td>-0.02119413</td><td> 1.473808e-02</td></tr>\n",
       "\t<tr><td>-0.009458761</td><td>-0.01268592</td><td>-0.02095280</td><td> 9.538086e-03</td></tr>\n",
       "\t<tr><td>-0.009389271</td><td>-0.01291528</td><td>-0.02091323</td><td> 5.418607e-03</td></tr>\n",
       "\t<tr><td>-0.009061566</td><td>-0.01230890</td><td>-0.02035696</td><td> 9.608621e-05</td></tr>\n",
       "\t<tr><td>-0.009321664</td><td>-0.01270949</td><td>-0.02032992</td><td> 2.109022e-03</td></tr>\n",
       "</tbody>\n",
       "</table>\n"
      ],
      "text/latex": [
       "A data.table: 10 × 4\n",
       "\\begin{tabular}{llll}\n",
       " 10\\% & 5\\% & 1\\% & realized\\\\\n",
       " <dbl> & <dbl> & <dbl> & <dbl>\\\\\n",
       "\\hline\n",
       "\t -0.009681939 & -0.01313713 & -0.02104849 &  2.624978e-03\\\\\n",
       "\t -0.009215796 & -0.01236611 & -0.02090738 &  8.127555e-03\\\\\n",
       "\t -0.009224827 & -0.01264877 & -0.02027644 &  4.701312e-03\\\\\n",
       "\t -0.009098872 & -0.01253075 & -0.02076290 & -3.757181e-03\\\\\n",
       "\t -0.009324913 & -0.01257106 & -0.02039714 & -6.293676e-04\\\\\n",
       "\t -0.009253357 & -0.01279029 & -0.02119413 &  1.473808e-02\\\\\n",
       "\t -0.009458761 & -0.01268592 & -0.02095280 &  9.538086e-03\\\\\n",
       "\t -0.009389271 & -0.01291528 & -0.02091323 &  5.418607e-03\\\\\n",
       "\t -0.009061566 & -0.01230890 & -0.02035696 &  9.608621e-05\\\\\n",
       "\t -0.009321664 & -0.01270949 & -0.02032992 &  2.109022e-03\\\\\n",
       "\\end{tabular}\n"
      ],
      "text/markdown": [
       "\n",
       "A data.table: 10 × 4\n",
       "\n",
       "| 10% &lt;dbl&gt; | 5% &lt;dbl&gt; | 1% &lt;dbl&gt; | realized &lt;dbl&gt; |\n",
       "|---|---|---|---|\n",
       "| -0.009681939 | -0.01313713 | -0.02104849 |  2.624978e-03 |\n",
       "| -0.009215796 | -0.01236611 | -0.02090738 |  8.127555e-03 |\n",
       "| -0.009224827 | -0.01264877 | -0.02027644 |  4.701312e-03 |\n",
       "| -0.009098872 | -0.01253075 | -0.02076290 | -3.757181e-03 |\n",
       "| -0.009324913 | -0.01257106 | -0.02039714 | -6.293676e-04 |\n",
       "| -0.009253357 | -0.01279029 | -0.02119413 |  1.473808e-02 |\n",
       "| -0.009458761 | -0.01268592 | -0.02095280 |  9.538086e-03 |\n",
       "| -0.009389271 | -0.01291528 | -0.02091323 |  5.418607e-03 |\n",
       "| -0.009061566 | -0.01230890 | -0.02035696 |  9.608621e-05 |\n",
       "| -0.009321664 | -0.01270949 | -0.02032992 |  2.109022e-03 |\n",
       "\n"
      ],
      "text/plain": [
       "   10%          5%          1%          realized     \n",
       "1  -0.009681939 -0.01313713 -0.02104849  2.624978e-03\n",
       "2  -0.009215796 -0.01236611 -0.02090738  8.127555e-03\n",
       "3  -0.009224827 -0.01264877 -0.02027644  4.701312e-03\n",
       "4  -0.009098872 -0.01253075 -0.02076290 -3.757181e-03\n",
       "5  -0.009324913 -0.01257106 -0.02039714 -6.293676e-04\n",
       "6  -0.009253357 -0.01279029 -0.02119413  1.473808e-02\n",
       "7  -0.009458761 -0.01268592 -0.02095280  9.538086e-03\n",
       "8  -0.009389271 -0.01291528 -0.02091323  5.418607e-03\n",
       "9  -0.009061566 -0.01230890 -0.02035696  9.608621e-05\n",
       "10 -0.009321664 -0.01270949 -0.02032992  2.109022e-03"
      ]
     },
     "metadata": {},
     "output_type": "display_data"
    }
   ],
   "source": [
    "VaR_nifty50_stochvol_2021[,realized:=as.numeric(realized)]\n",
    "head(VaR_nifty50_stochvol_2021,10)"
   ]
  },
  {
   "cell_type": "code",
   "execution_count": 20,
   "id": "d41eb02e",
   "metadata": {},
   "outputs": [
    {
     "data": {
      "text/html": [
       "<table class=\"dataframe\">\n",
       "<caption>A data.table: 10 × 4</caption>\n",
       "<thead>\n",
       "\t<tr><th scope=col>alpha(10%)</th><th scope=col>alpha(5%)</th><th scope=col>alpha(1%)</th><th scope=col>realized</th></tr>\n",
       "\t<tr><th scope=col>&lt;dbl&gt;</th><th scope=col>&lt;dbl&gt;</th><th scope=col>&lt;dbl&gt;</th><th scope=col>&lt;dbl&gt;</th></tr>\n",
       "</thead>\n",
       "<tbody>\n",
       "\t<tr><td>-0.01169482</td><td>-0.01602032</td><td>-0.02591765</td><td> 2.624978e-03</td></tr>\n",
       "\t<tr><td>-0.01125619</td><td>-0.01542899</td><td>-0.02497731</td><td> 8.127555e-03</td></tr>\n",
       "\t<tr><td>-0.01111075</td><td>-0.01523045</td><td>-0.02465174</td><td> 4.701312e-03</td></tr>\n",
       "\t<tr><td>-0.01076083</td><td>-0.01476673</td><td>-0.02394906</td><td>-3.757181e-03</td></tr>\n",
       "\t<tr><td>-0.01045101</td><td>-0.01434102</td><td>-0.02324103</td><td>-6.293676e-04</td></tr>\n",
       "\t<tr><td>-0.01006417</td><td>-0.01381829</td><td>-0.02241025</td><td> 1.473808e-02</td></tr>\n",
       "\t<tr><td>-0.01080031</td><td>-0.01481308</td><td>-0.02399015</td><td> 9.538086e-03</td></tr>\n",
       "\t<tr><td>-0.01081415</td><td>-0.01483375</td><td>-0.02402766</td><td> 5.418607e-03</td></tr>\n",
       "\t<tr><td>-0.01052096</td><td>-0.01443908</td><td>-0.02340287</td><td> 9.608621e-05</td></tr>\n",
       "\t<tr><td>-0.01011424</td><td>-0.01389048</td><td>-0.02252958</td><td> 2.109022e-03</td></tr>\n",
       "</tbody>\n",
       "</table>\n"
      ],
      "text/latex": [
       "A data.table: 10 × 4\n",
       "\\begin{tabular}{llll}\n",
       " alpha(10\\%) & alpha(5\\%) & alpha(1\\%) & realized\\\\\n",
       " <dbl> & <dbl> & <dbl> & <dbl>\\\\\n",
       "\\hline\n",
       "\t -0.01169482 & -0.01602032 & -0.02591765 &  2.624978e-03\\\\\n",
       "\t -0.01125619 & -0.01542899 & -0.02497731 &  8.127555e-03\\\\\n",
       "\t -0.01111075 & -0.01523045 & -0.02465174 &  4.701312e-03\\\\\n",
       "\t -0.01076083 & -0.01476673 & -0.02394906 & -3.757181e-03\\\\\n",
       "\t -0.01045101 & -0.01434102 & -0.02324103 & -6.293676e-04\\\\\n",
       "\t -0.01006417 & -0.01381829 & -0.02241025 &  1.473808e-02\\\\\n",
       "\t -0.01080031 & -0.01481308 & -0.02399015 &  9.538086e-03\\\\\n",
       "\t -0.01081415 & -0.01483375 & -0.02402766 &  5.418607e-03\\\\\n",
       "\t -0.01052096 & -0.01443908 & -0.02340287 &  9.608621e-05\\\\\n",
       "\t -0.01011424 & -0.01389048 & -0.02252958 &  2.109022e-03\\\\\n",
       "\\end{tabular}\n"
      ],
      "text/markdown": [
       "\n",
       "A data.table: 10 × 4\n",
       "\n",
       "| alpha(10%) &lt;dbl&gt; | alpha(5%) &lt;dbl&gt; | alpha(1%) &lt;dbl&gt; | realized &lt;dbl&gt; |\n",
       "|---|---|---|---|\n",
       "| -0.01169482 | -0.01602032 | -0.02591765 |  2.624978e-03 |\n",
       "| -0.01125619 | -0.01542899 | -0.02497731 |  8.127555e-03 |\n",
       "| -0.01111075 | -0.01523045 | -0.02465174 |  4.701312e-03 |\n",
       "| -0.01076083 | -0.01476673 | -0.02394906 | -3.757181e-03 |\n",
       "| -0.01045101 | -0.01434102 | -0.02324103 | -6.293676e-04 |\n",
       "| -0.01006417 | -0.01381829 | -0.02241025 |  1.473808e-02 |\n",
       "| -0.01080031 | -0.01481308 | -0.02399015 |  9.538086e-03 |\n",
       "| -0.01081415 | -0.01483375 | -0.02402766 |  5.418607e-03 |\n",
       "| -0.01052096 | -0.01443908 | -0.02340287 |  9.608621e-05 |\n",
       "| -0.01011424 | -0.01389048 | -0.02252958 |  2.109022e-03 |\n",
       "\n"
      ],
      "text/plain": [
       "   alpha(10%)  alpha(5%)   alpha(1%)   realized     \n",
       "1  -0.01169482 -0.01602032 -0.02591765  2.624978e-03\n",
       "2  -0.01125619 -0.01542899 -0.02497731  8.127555e-03\n",
       "3  -0.01111075 -0.01523045 -0.02465174  4.701312e-03\n",
       "4  -0.01076083 -0.01476673 -0.02394906 -3.757181e-03\n",
       "5  -0.01045101 -0.01434102 -0.02324103 -6.293676e-04\n",
       "6  -0.01006417 -0.01381829 -0.02241025  1.473808e-02\n",
       "7  -0.01080031 -0.01481308 -0.02399015  9.538086e-03\n",
       "8  -0.01081415 -0.01483375 -0.02402766  5.418607e-03\n",
       "9  -0.01052096 -0.01443908 -0.02340287  9.608621e-05\n",
       "10 -0.01011424 -0.01389048 -0.02252958  2.109022e-03"
      ]
     },
     "metadata": {},
     "output_type": "display_data"
    },
    {
     "data": {
      "text/html": [
       "<table class=\"dataframe\">\n",
       "<caption>A data.table: 10 × 4</caption>\n",
       "<thead>\n",
       "\t<tr><th scope=col>alpha(10%)</th><th scope=col>alpha(5%)</th><th scope=col>alpha(1%)</th><th scope=col>realized</th></tr>\n",
       "\t<tr><th scope=col>&lt;dbl&gt;</th><th scope=col>&lt;dbl&gt;</th><th scope=col>&lt;dbl&gt;</th><th scope=col>&lt;dbl&gt;</th></tr>\n",
       "</thead>\n",
       "<tbody>\n",
       "\t<tr><td>-0.01169369</td><td>-0.01601796</td><td>-0.02590990</td><td> 2.624978e-03</td></tr>\n",
       "\t<tr><td>-0.01125628</td><td>-0.01542790</td><td>-0.02497155</td><td> 8.127555e-03</td></tr>\n",
       "\t<tr><td>-0.01110027</td><td>-0.01522135</td><td>-0.02464968</td><td> 4.701312e-03</td></tr>\n",
       "\t<tr><td>-0.01076435</td><td>-0.01476281</td><td>-0.02390538</td><td>-3.757181e-03</td></tr>\n",
       "\t<tr><td>-0.01045734</td><td>-0.01435051</td><td>-0.02326016</td><td>-6.293676e-04</td></tr>\n",
       "\t<tr><td>-0.01005865</td><td>-0.01381207</td><td>-0.02240562</td><td> 1.473808e-02</td></tr>\n",
       "\t<tr><td>-0.01079986</td><td>-0.01481159</td><td>-0.02398825</td><td> 9.538086e-03</td></tr>\n",
       "\t<tr><td>-0.01081331</td><td>-0.01483282</td><td>-0.02402584</td><td> 5.418607e-03</td></tr>\n",
       "\t<tr><td>-0.01051815</td><td>-0.01443516</td><td>-0.02339818</td><td> 9.608621e-05</td></tr>\n",
       "\t<tr><td>-0.01010562</td><td>-0.01388146</td><td>-0.02251836</td><td> 2.109022e-03</td></tr>\n",
       "</tbody>\n",
       "</table>\n"
      ],
      "text/latex": [
       "A data.table: 10 × 4\n",
       "\\begin{tabular}{llll}\n",
       " alpha(10\\%) & alpha(5\\%) & alpha(1\\%) & realized\\\\\n",
       " <dbl> & <dbl> & <dbl> & <dbl>\\\\\n",
       "\\hline\n",
       "\t -0.01169369 & -0.01601796 & -0.02590990 &  2.624978e-03\\\\\n",
       "\t -0.01125628 & -0.01542790 & -0.02497155 &  8.127555e-03\\\\\n",
       "\t -0.01110027 & -0.01522135 & -0.02464968 &  4.701312e-03\\\\\n",
       "\t -0.01076435 & -0.01476281 & -0.02390538 & -3.757181e-03\\\\\n",
       "\t -0.01045734 & -0.01435051 & -0.02326016 & -6.293676e-04\\\\\n",
       "\t -0.01005865 & -0.01381207 & -0.02240562 &  1.473808e-02\\\\\n",
       "\t -0.01079986 & -0.01481159 & -0.02398825 &  9.538086e-03\\\\\n",
       "\t -0.01081331 & -0.01483282 & -0.02402584 &  5.418607e-03\\\\\n",
       "\t -0.01051815 & -0.01443516 & -0.02339818 &  9.608621e-05\\\\\n",
       "\t -0.01010562 & -0.01388146 & -0.02251836 &  2.109022e-03\\\\\n",
       "\\end{tabular}\n"
      ],
      "text/markdown": [
       "\n",
       "A data.table: 10 × 4\n",
       "\n",
       "| alpha(10%) &lt;dbl&gt; | alpha(5%) &lt;dbl&gt; | alpha(1%) &lt;dbl&gt; | realized &lt;dbl&gt; |\n",
       "|---|---|---|---|\n",
       "| -0.01169369 | -0.01601796 | -0.02590990 |  2.624978e-03 |\n",
       "| -0.01125628 | -0.01542790 | -0.02497155 |  8.127555e-03 |\n",
       "| -0.01110027 | -0.01522135 | -0.02464968 |  4.701312e-03 |\n",
       "| -0.01076435 | -0.01476281 | -0.02390538 | -3.757181e-03 |\n",
       "| -0.01045734 | -0.01435051 | -0.02326016 | -6.293676e-04 |\n",
       "| -0.01005865 | -0.01381207 | -0.02240562 |  1.473808e-02 |\n",
       "| -0.01079986 | -0.01481159 | -0.02398825 |  9.538086e-03 |\n",
       "| -0.01081331 | -0.01483282 | -0.02402584 |  5.418607e-03 |\n",
       "| -0.01051815 | -0.01443516 | -0.02339818 |  9.608621e-05 |\n",
       "| -0.01010562 | -0.01388146 | -0.02251836 |  2.109022e-03 |\n",
       "\n"
      ],
      "text/plain": [
       "   alpha(10%)  alpha(5%)   alpha(1%)   realized     \n",
       "1  -0.01169369 -0.01601796 -0.02590990  2.624978e-03\n",
       "2  -0.01125628 -0.01542790 -0.02497155  8.127555e-03\n",
       "3  -0.01110027 -0.01522135 -0.02464968  4.701312e-03\n",
       "4  -0.01076435 -0.01476281 -0.02390538 -3.757181e-03\n",
       "5  -0.01045734 -0.01435051 -0.02326016 -6.293676e-04\n",
       "6  -0.01005865 -0.01381207 -0.02240562  1.473808e-02\n",
       "7  -0.01079986 -0.01481159 -0.02398825  9.538086e-03\n",
       "8  -0.01081331 -0.01483282 -0.02402584  5.418607e-03\n",
       "9  -0.01051815 -0.01443516 -0.02339818  9.608621e-05\n",
       "10 -0.01010562 -0.01388146 -0.02251836  2.109022e-03"
      ]
     },
     "metadata": {},
     "output_type": "display_data"
    }
   ],
   "source": [
    "VaR_nifty50_garch_2021 <- rbindlist(VaR_nifty_2021)\n",
    "VaR_nifty50_fgarch_2021 <- rbindlist(VaR_nifty_fgarch_2021)\n",
    "\n",
    "head(VaR_nifty50_garch_2021,10)\n",
    "head(VaR_nifty50_fgarch_2021,10)"
   ]
  },
  {
   "cell_type": "code",
   "execution_count": 21,
   "id": "1f58a154",
   "metadata": {},
   "outputs": [
    {
     "data": {
      "text/html": [
       "1488"
      ],
      "text/latex": [
       "1488"
      ],
      "text/markdown": [
       "1488"
      ],
      "text/plain": [
       "[1] 1488"
      ]
     },
     "metadata": {},
     "output_type": "display_data"
    },
    {
     "data": {
      "text/html": [
       "1984"
      ],
      "text/latex": [
       "1984"
      ],
      "text/markdown": [
       "1984"
      ],
      "text/plain": [
       "[1] 1984"
      ]
     },
     "metadata": {},
     "output_type": "display_data"
    }
   ],
   "source": [
    "nrow(VaR_nifty50_garch_2021)\n",
    "nrow(VaR_nifty50_fgarch_2021)"
   ]
  },
  {
   "cell_type": "code",
   "execution_count": 22,
   "id": "9f46c69d",
   "metadata": {},
   "outputs": [
    {
     "data": {
      "text/html": [
       "<style>\n",
       ".dl-inline {width: auto; margin:0; padding: 0}\n",
       ".dl-inline>dt, .dl-inline>dd {float: none; width: auto; display: inline-block}\n",
       ".dl-inline>dt::after {content: \":\\0020\"; padding-right: .5ex}\n",
       ".dl-inline>dt:not(:first-of-type) {padding-left: .5ex}\n",
       "</style><dl class=dl-inline><dt>alpha(10%)</dt><dd>'numeric'</dd><dt>alpha(5%)</dt><dd>'numeric'</dd><dt>alpha(1%)</dt><dd>'numeric'</dd><dt>realized</dt><dd>'numeric'</dd></dl>\n"
      ],
      "text/latex": [
       "\\begin{description*}\n",
       "\\item[alpha(10\\textbackslash{}\\%)] 'numeric'\n",
       "\\item[alpha(5\\textbackslash{}\\%)] 'numeric'\n",
       "\\item[alpha(1\\textbackslash{}\\%)] 'numeric'\n",
       "\\item[realized] 'numeric'\n",
       "\\end{description*}\n"
      ],
      "text/markdown": [
       "alpha(10%)\n",
       ":   'numeric'alpha(5%)\n",
       ":   'numeric'alpha(1%)\n",
       ":   'numeric'realized\n",
       ":   'numeric'\n",
       "\n"
      ],
      "text/plain": [
       "alpha(10%)  alpha(5%)  alpha(1%)   realized \n",
       " \"numeric\"  \"numeric\"  \"numeric\"  \"numeric\" "
      ]
     },
     "metadata": {},
     "output_type": "display_data"
    },
    {
     "data": {
      "text/html": [
       "<style>\n",
       ".dl-inline {width: auto; margin:0; padding: 0}\n",
       ".dl-inline>dt, .dl-inline>dd {float: none; width: auto; display: inline-block}\n",
       ".dl-inline>dt::after {content: \":\\0020\"; padding-right: .5ex}\n",
       ".dl-inline>dt:not(:first-of-type) {padding-left: .5ex}\n",
       "</style><dl class=dl-inline><dt>alpha(10%)</dt><dd>'numeric'</dd><dt>alpha(5%)</dt><dd>'numeric'</dd><dt>alpha(1%)</dt><dd>'numeric'</dd><dt>realized</dt><dd>'numeric'</dd></dl>\n"
      ],
      "text/latex": [
       "\\begin{description*}\n",
       "\\item[alpha(10\\textbackslash{}\\%)] 'numeric'\n",
       "\\item[alpha(5\\textbackslash{}\\%)] 'numeric'\n",
       "\\item[alpha(1\\textbackslash{}\\%)] 'numeric'\n",
       "\\item[realized] 'numeric'\n",
       "\\end{description*}\n"
      ],
      "text/markdown": [
       "alpha(10%)\n",
       ":   'numeric'alpha(5%)\n",
       ":   'numeric'alpha(1%)\n",
       ":   'numeric'realized\n",
       ":   'numeric'\n",
       "\n"
      ],
      "text/plain": [
       "alpha(10%)  alpha(5%)  alpha(1%)   realized \n",
       " \"numeric\"  \"numeric\"  \"numeric\"  \"numeric\" "
      ]
     },
     "metadata": {},
     "output_type": "display_data"
    }
   ],
   "source": [
    "colnames(VaR_nifty50_stochvol_2021) <- colnames(VaR_nifty50_garch_2021)\n",
    "\n",
    "sapply(VaR_nifty50_garch_2021,class)\n",
    "sapply(VaR_nifty50_fgarch_2021,class)"
   ]
  },
  {
   "cell_type": "code",
   "execution_count": 23,
   "id": "447118ae",
   "metadata": {},
   "outputs": [],
   "source": [
    "rbindlist(list(VaR_nifty50_garch_2021, VaR_nifty50_fgarch_2021,VaR_nifty50_stochvol_2021)) -> VaR_nifty50_2021"
   ]
  },
  {
   "cell_type": "code",
   "execution_count": 24,
   "id": "a832f3ad",
   "metadata": {},
   "outputs": [
    {
     "data": {
      "text/html": [
       "3720"
      ],
      "text/latex": [
       "3720"
      ],
      "text/markdown": [
       "3720"
      ],
      "text/plain": [
       "[1] 3720"
      ]
     },
     "metadata": {},
     "output_type": "display_data"
    },
    {
     "data": {
      "text/html": [
       "<table class=\"dataframe\">\n",
       "<caption>A data.table: 10 × 4</caption>\n",
       "<thead>\n",
       "\t<tr><th scope=col>alpha(10%)</th><th scope=col>alpha(5%)</th><th scope=col>alpha(1%)</th><th scope=col>realized</th></tr>\n",
       "\t<tr><th scope=col>&lt;dbl&gt;</th><th scope=col>&lt;dbl&gt;</th><th scope=col>&lt;dbl&gt;</th><th scope=col>&lt;dbl&gt;</th></tr>\n",
       "</thead>\n",
       "<tbody>\n",
       "\t<tr><td>-0.01169482</td><td>-0.01602032</td><td>-0.02591765</td><td> 2.624978e-03</td></tr>\n",
       "\t<tr><td>-0.01125619</td><td>-0.01542899</td><td>-0.02497731</td><td> 8.127555e-03</td></tr>\n",
       "\t<tr><td>-0.01111075</td><td>-0.01523045</td><td>-0.02465174</td><td> 4.701312e-03</td></tr>\n",
       "\t<tr><td>-0.01076083</td><td>-0.01476673</td><td>-0.02394906</td><td>-3.757181e-03</td></tr>\n",
       "\t<tr><td>-0.01045101</td><td>-0.01434102</td><td>-0.02324103</td><td>-6.293676e-04</td></tr>\n",
       "\t<tr><td>-0.01006417</td><td>-0.01381829</td><td>-0.02241025</td><td> 1.473808e-02</td></tr>\n",
       "\t<tr><td>-0.01080031</td><td>-0.01481308</td><td>-0.02399015</td><td> 9.538086e-03</td></tr>\n",
       "\t<tr><td>-0.01081415</td><td>-0.01483375</td><td>-0.02402766</td><td> 5.418607e-03</td></tr>\n",
       "\t<tr><td>-0.01052096</td><td>-0.01443908</td><td>-0.02340287</td><td> 9.608621e-05</td></tr>\n",
       "\t<tr><td>-0.01011424</td><td>-0.01389048</td><td>-0.02252958</td><td> 2.109022e-03</td></tr>\n",
       "</tbody>\n",
       "</table>\n"
      ],
      "text/latex": [
       "A data.table: 10 × 4\n",
       "\\begin{tabular}{llll}\n",
       " alpha(10\\%) & alpha(5\\%) & alpha(1\\%) & realized\\\\\n",
       " <dbl> & <dbl> & <dbl> & <dbl>\\\\\n",
       "\\hline\n",
       "\t -0.01169482 & -0.01602032 & -0.02591765 &  2.624978e-03\\\\\n",
       "\t -0.01125619 & -0.01542899 & -0.02497731 &  8.127555e-03\\\\\n",
       "\t -0.01111075 & -0.01523045 & -0.02465174 &  4.701312e-03\\\\\n",
       "\t -0.01076083 & -0.01476673 & -0.02394906 & -3.757181e-03\\\\\n",
       "\t -0.01045101 & -0.01434102 & -0.02324103 & -6.293676e-04\\\\\n",
       "\t -0.01006417 & -0.01381829 & -0.02241025 &  1.473808e-02\\\\\n",
       "\t -0.01080031 & -0.01481308 & -0.02399015 &  9.538086e-03\\\\\n",
       "\t -0.01081415 & -0.01483375 & -0.02402766 &  5.418607e-03\\\\\n",
       "\t -0.01052096 & -0.01443908 & -0.02340287 &  9.608621e-05\\\\\n",
       "\t -0.01011424 & -0.01389048 & -0.02252958 &  2.109022e-03\\\\\n",
       "\\end{tabular}\n"
      ],
      "text/markdown": [
       "\n",
       "A data.table: 10 × 4\n",
       "\n",
       "| alpha(10%) &lt;dbl&gt; | alpha(5%) &lt;dbl&gt; | alpha(1%) &lt;dbl&gt; | realized &lt;dbl&gt; |\n",
       "|---|---|---|---|\n",
       "| -0.01169482 | -0.01602032 | -0.02591765 |  2.624978e-03 |\n",
       "| -0.01125619 | -0.01542899 | -0.02497731 |  8.127555e-03 |\n",
       "| -0.01111075 | -0.01523045 | -0.02465174 |  4.701312e-03 |\n",
       "| -0.01076083 | -0.01476673 | -0.02394906 | -3.757181e-03 |\n",
       "| -0.01045101 | -0.01434102 | -0.02324103 | -6.293676e-04 |\n",
       "| -0.01006417 | -0.01381829 | -0.02241025 |  1.473808e-02 |\n",
       "| -0.01080031 | -0.01481308 | -0.02399015 |  9.538086e-03 |\n",
       "| -0.01081415 | -0.01483375 | -0.02402766 |  5.418607e-03 |\n",
       "| -0.01052096 | -0.01443908 | -0.02340287 |  9.608621e-05 |\n",
       "| -0.01011424 | -0.01389048 | -0.02252958 |  2.109022e-03 |\n",
       "\n"
      ],
      "text/plain": [
       "   alpha(10%)  alpha(5%)   alpha(1%)   realized     \n",
       "1  -0.01169482 -0.01602032 -0.02591765  2.624978e-03\n",
       "2  -0.01125619 -0.01542899 -0.02497731  8.127555e-03\n",
       "3  -0.01111075 -0.01523045 -0.02465174  4.701312e-03\n",
       "4  -0.01076083 -0.01476673 -0.02394906 -3.757181e-03\n",
       "5  -0.01045101 -0.01434102 -0.02324103 -6.293676e-04\n",
       "6  -0.01006417 -0.01381829 -0.02241025  1.473808e-02\n",
       "7  -0.01080031 -0.01481308 -0.02399015  9.538086e-03\n",
       "8  -0.01081415 -0.01483375 -0.02402766  5.418607e-03\n",
       "9  -0.01052096 -0.01443908 -0.02340287  9.608621e-05\n",
       "10 -0.01011424 -0.01389048 -0.02252958  2.109022e-03"
      ]
     },
     "metadata": {},
     "output_type": "display_data"
    }
   ],
   "source": [
    "nrow(VaR_nifty50_2021)\n",
    "head(VaR_nifty50_2021,10)"
   ]
  },
  {
   "cell_type": "code",
   "execution_count": 25,
   "id": "d00b3ca8",
   "metadata": {},
   "outputs": [],
   "source": [
    "VaR_nifty50_garch_2021[,':='(date = rep(index(logret)[3251:3498],6), model= unlist(lapply(model_name, rep, 248)))]\n",
    "VaR_nifty50_fgarch_2021[,':='(date = rep(index(logret)[3251:3498],8), model= unlist(lapply(submodels_fgarch, rep, 248)))]\n",
    "VaR_nifty50_stochvol_2021[,date:=index(logret[3251:3498])]"
   ]
  },
  {
   "cell_type": "code",
   "execution_count": 26,
   "id": "487e916e",
   "metadata": {},
   "outputs": [],
   "source": [
    "setcolorder(VaR_nifty50_garch_2021, c(5:6,1:4))\n",
    "setcolorder(VaR_nifty50_fgarch_2021, c(5:6,1:4))\n",
    "setcolorder(VaR_nifty50_stochvol_2021, c(5,1:4))"
   ]
  },
  {
   "cell_type": "code",
   "execution_count": 27,
   "id": "ab203989",
   "metadata": {},
   "outputs": [],
   "source": [
    "VaR_nifty50_2021[,':='(date = rep(index(logret)[3251:3498],15), model = unlist(lapply(c(model_name,submodels_fgarch,\"Stochastic_Volatility_Model\"), rep, 248)))]\n",
    "setcolorder(VaR_nifty50_2021, c(5,6,1:4))"
   ]
  },
  {
   "cell_type": "code",
   "execution_count": 28,
   "id": "36e31c38",
   "metadata": {},
   "outputs": [
    {
     "data": {
      "text/html": [
       "<table class=\"dataframe\">\n",
       "<caption>A data.table: 20 × 6</caption>\n",
       "<thead>\n",
       "\t<tr><th scope=col>date</th><th scope=col>model</th><th scope=col>alpha(10%)</th><th scope=col>alpha(5%)</th><th scope=col>alpha(1%)</th><th scope=col>realized</th></tr>\n",
       "\t<tr><th scope=col>&lt;date&gt;</th><th scope=col>&lt;chr&gt;</th><th scope=col>&lt;dbl&gt;</th><th scope=col>&lt;dbl&gt;</th><th scope=col>&lt;dbl&gt;</th><th scope=col>&lt;dbl&gt;</th></tr>\n",
       "</thead>\n",
       "<tbody>\n",
       "\t<tr><td>2021-01-01</td><td>sGARCH</td><td>-0.011694823</td><td>-0.01602032</td><td>-0.02591765</td><td> 2.624978e-03</td></tr>\n",
       "\t<tr><td>2021-01-04</td><td>sGARCH</td><td>-0.011256192</td><td>-0.01542899</td><td>-0.02497731</td><td> 8.127555e-03</td></tr>\n",
       "\t<tr><td>2021-01-05</td><td>sGARCH</td><td>-0.011110752</td><td>-0.01523045</td><td>-0.02465174</td><td> 4.701312e-03</td></tr>\n",
       "\t<tr><td>2021-01-06</td><td>sGARCH</td><td>-0.010760830</td><td>-0.01476673</td><td>-0.02394906</td><td>-3.757181e-03</td></tr>\n",
       "\t<tr><td>2021-01-07</td><td>sGARCH</td><td>-0.010451010</td><td>-0.01434102</td><td>-0.02324103</td><td>-6.293676e-04</td></tr>\n",
       "\t<tr><td>2021-01-08</td><td>sGARCH</td><td>-0.010064166</td><td>-0.01381829</td><td>-0.02241025</td><td> 1.473808e-02</td></tr>\n",
       "\t<tr><td>2021-01-11</td><td>sGARCH</td><td>-0.010800314</td><td>-0.01481308</td><td>-0.02399015</td><td> 9.538086e-03</td></tr>\n",
       "\t<tr><td>2021-01-12</td><td>sGARCH</td><td>-0.010814149</td><td>-0.01483375</td><td>-0.02402766</td><td> 5.418607e-03</td></tr>\n",
       "\t<tr><td>2021-01-13</td><td>sGARCH</td><td>-0.010520958</td><td>-0.01443908</td><td>-0.02340287</td><td> 9.608621e-05</td></tr>\n",
       "\t<tr><td>2021-01-14</td><td>sGARCH</td><td>-0.010114235</td><td>-0.01389048</td><td>-0.02252958</td><td> 2.109022e-03</td></tr>\n",
       "\t<tr><td>2021-01-15</td><td>sGARCH</td><td>-0.009754895</td><td>-0.01340232</td><td>-0.02174720</td><td>-1.115432e-02</td></tr>\n",
       "\t<tr><td>2021-01-18</td><td>sGARCH</td><td>-0.010204282</td><td>-0.01401006</td><td>-0.02271627</td><td>-1.061479e-02</td></tr>\n",
       "\t<tr><td>2021-01-19</td><td>sGARCH</td><td>-0.010532046</td><td>-0.01444945</td><td>-0.02341029</td><td> 1.665526e-02</td></tr>\n",
       "\t<tr><td>2021-01-20</td><td>sGARCH</td><td>-0.011486810</td><td>-0.01574203</td><td>-0.02546813</td><td> 8.472274e-03</td></tr>\n",
       "\t<tr><td>2021-01-21</td><td>sGARCH</td><td>-0.011354285</td><td>-0.01556100</td><td>-0.02517127</td><td>-3.718184e-03</td></tr>\n",
       "\t<tr><td>2021-01-22</td><td>sGARCH</td><td>-0.011005447</td><td>-0.01508863</td><td>-0.02441989</td><td>-1.508539e-02</td></tr>\n",
       "\t<tr><td>2021-01-25</td><td>sGARCH</td><td>-0.011840229</td><td>-0.01621449</td><td>-0.02620796</td><td>-9.297255e-03</td></tr>\n",
       "\t<tr><td>2021-01-27</td><td>sGARCH</td><td>-0.011855964</td><td>-0.01623345</td><td>-0.02623044</td><td>-1.924448e-02</td></tr>\n",
       "\t<tr><td>2021-01-28</td><td>sGARCH</td><td>-0.013235153</td><td>-0.01809812</td><td>-0.02920369</td><td>-1.079369e-02</td></tr>\n",
       "\t<tr><td>2021-01-29</td><td>sGARCH</td><td>-0.013269110</td><td>-0.01813485</td><td>-0.02923438</td><td>-1.332886e-02</td></tr>\n",
       "</tbody>\n",
       "</table>\n"
      ],
      "text/latex": [
       "A data.table: 20 × 6\n",
       "\\begin{tabular}{llllll}\n",
       " date & model & alpha(10\\%) & alpha(5\\%) & alpha(1\\%) & realized\\\\\n",
       " <date> & <chr> & <dbl> & <dbl> & <dbl> & <dbl>\\\\\n",
       "\\hline\n",
       "\t 2021-01-01 & sGARCH & -0.011694823 & -0.01602032 & -0.02591765 &  2.624978e-03\\\\\n",
       "\t 2021-01-04 & sGARCH & -0.011256192 & -0.01542899 & -0.02497731 &  8.127555e-03\\\\\n",
       "\t 2021-01-05 & sGARCH & -0.011110752 & -0.01523045 & -0.02465174 &  4.701312e-03\\\\\n",
       "\t 2021-01-06 & sGARCH & -0.010760830 & -0.01476673 & -0.02394906 & -3.757181e-03\\\\\n",
       "\t 2021-01-07 & sGARCH & -0.010451010 & -0.01434102 & -0.02324103 & -6.293676e-04\\\\\n",
       "\t 2021-01-08 & sGARCH & -0.010064166 & -0.01381829 & -0.02241025 &  1.473808e-02\\\\\n",
       "\t 2021-01-11 & sGARCH & -0.010800314 & -0.01481308 & -0.02399015 &  9.538086e-03\\\\\n",
       "\t 2021-01-12 & sGARCH & -0.010814149 & -0.01483375 & -0.02402766 &  5.418607e-03\\\\\n",
       "\t 2021-01-13 & sGARCH & -0.010520958 & -0.01443908 & -0.02340287 &  9.608621e-05\\\\\n",
       "\t 2021-01-14 & sGARCH & -0.010114235 & -0.01389048 & -0.02252958 &  2.109022e-03\\\\\n",
       "\t 2021-01-15 & sGARCH & -0.009754895 & -0.01340232 & -0.02174720 & -1.115432e-02\\\\\n",
       "\t 2021-01-18 & sGARCH & -0.010204282 & -0.01401006 & -0.02271627 & -1.061479e-02\\\\\n",
       "\t 2021-01-19 & sGARCH & -0.010532046 & -0.01444945 & -0.02341029 &  1.665526e-02\\\\\n",
       "\t 2021-01-20 & sGARCH & -0.011486810 & -0.01574203 & -0.02546813 &  8.472274e-03\\\\\n",
       "\t 2021-01-21 & sGARCH & -0.011354285 & -0.01556100 & -0.02517127 & -3.718184e-03\\\\\n",
       "\t 2021-01-22 & sGARCH & -0.011005447 & -0.01508863 & -0.02441989 & -1.508539e-02\\\\\n",
       "\t 2021-01-25 & sGARCH & -0.011840229 & -0.01621449 & -0.02620796 & -9.297255e-03\\\\\n",
       "\t 2021-01-27 & sGARCH & -0.011855964 & -0.01623345 & -0.02623044 & -1.924448e-02\\\\\n",
       "\t 2021-01-28 & sGARCH & -0.013235153 & -0.01809812 & -0.02920369 & -1.079369e-02\\\\\n",
       "\t 2021-01-29 & sGARCH & -0.013269110 & -0.01813485 & -0.02923438 & -1.332886e-02\\\\\n",
       "\\end{tabular}\n"
      ],
      "text/markdown": [
       "\n",
       "A data.table: 20 × 6\n",
       "\n",
       "| date &lt;date&gt; | model &lt;chr&gt; | alpha(10%) &lt;dbl&gt; | alpha(5%) &lt;dbl&gt; | alpha(1%) &lt;dbl&gt; | realized &lt;dbl&gt; |\n",
       "|---|---|---|---|---|---|\n",
       "| 2021-01-01 | sGARCH | -0.011694823 | -0.01602032 | -0.02591765 |  2.624978e-03 |\n",
       "| 2021-01-04 | sGARCH | -0.011256192 | -0.01542899 | -0.02497731 |  8.127555e-03 |\n",
       "| 2021-01-05 | sGARCH | -0.011110752 | -0.01523045 | -0.02465174 |  4.701312e-03 |\n",
       "| 2021-01-06 | sGARCH | -0.010760830 | -0.01476673 | -0.02394906 | -3.757181e-03 |\n",
       "| 2021-01-07 | sGARCH | -0.010451010 | -0.01434102 | -0.02324103 | -6.293676e-04 |\n",
       "| 2021-01-08 | sGARCH | -0.010064166 | -0.01381829 | -0.02241025 |  1.473808e-02 |\n",
       "| 2021-01-11 | sGARCH | -0.010800314 | -0.01481308 | -0.02399015 |  9.538086e-03 |\n",
       "| 2021-01-12 | sGARCH | -0.010814149 | -0.01483375 | -0.02402766 |  5.418607e-03 |\n",
       "| 2021-01-13 | sGARCH | -0.010520958 | -0.01443908 | -0.02340287 |  9.608621e-05 |\n",
       "| 2021-01-14 | sGARCH | -0.010114235 | -0.01389048 | -0.02252958 |  2.109022e-03 |\n",
       "| 2021-01-15 | sGARCH | -0.009754895 | -0.01340232 | -0.02174720 | -1.115432e-02 |\n",
       "| 2021-01-18 | sGARCH | -0.010204282 | -0.01401006 | -0.02271627 | -1.061479e-02 |\n",
       "| 2021-01-19 | sGARCH | -0.010532046 | -0.01444945 | -0.02341029 |  1.665526e-02 |\n",
       "| 2021-01-20 | sGARCH | -0.011486810 | -0.01574203 | -0.02546813 |  8.472274e-03 |\n",
       "| 2021-01-21 | sGARCH | -0.011354285 | -0.01556100 | -0.02517127 | -3.718184e-03 |\n",
       "| 2021-01-22 | sGARCH | -0.011005447 | -0.01508863 | -0.02441989 | -1.508539e-02 |\n",
       "| 2021-01-25 | sGARCH | -0.011840229 | -0.01621449 | -0.02620796 | -9.297255e-03 |\n",
       "| 2021-01-27 | sGARCH | -0.011855964 | -0.01623345 | -0.02623044 | -1.924448e-02 |\n",
       "| 2021-01-28 | sGARCH | -0.013235153 | -0.01809812 | -0.02920369 | -1.079369e-02 |\n",
       "| 2021-01-29 | sGARCH | -0.013269110 | -0.01813485 | -0.02923438 | -1.332886e-02 |\n",
       "\n"
      ],
      "text/plain": [
       "   date       model  alpha(10%)   alpha(5%)   alpha(1%)   realized     \n",
       "1  2021-01-01 sGARCH -0.011694823 -0.01602032 -0.02591765  2.624978e-03\n",
       "2  2021-01-04 sGARCH -0.011256192 -0.01542899 -0.02497731  8.127555e-03\n",
       "3  2021-01-05 sGARCH -0.011110752 -0.01523045 -0.02465174  4.701312e-03\n",
       "4  2021-01-06 sGARCH -0.010760830 -0.01476673 -0.02394906 -3.757181e-03\n",
       "5  2021-01-07 sGARCH -0.010451010 -0.01434102 -0.02324103 -6.293676e-04\n",
       "6  2021-01-08 sGARCH -0.010064166 -0.01381829 -0.02241025  1.473808e-02\n",
       "7  2021-01-11 sGARCH -0.010800314 -0.01481308 -0.02399015  9.538086e-03\n",
       "8  2021-01-12 sGARCH -0.010814149 -0.01483375 -0.02402766  5.418607e-03\n",
       "9  2021-01-13 sGARCH -0.010520958 -0.01443908 -0.02340287  9.608621e-05\n",
       "10 2021-01-14 sGARCH -0.010114235 -0.01389048 -0.02252958  2.109022e-03\n",
       "11 2021-01-15 sGARCH -0.009754895 -0.01340232 -0.02174720 -1.115432e-02\n",
       "12 2021-01-18 sGARCH -0.010204282 -0.01401006 -0.02271627 -1.061479e-02\n",
       "13 2021-01-19 sGARCH -0.010532046 -0.01444945 -0.02341029  1.665526e-02\n",
       "14 2021-01-20 sGARCH -0.011486810 -0.01574203 -0.02546813  8.472274e-03\n",
       "15 2021-01-21 sGARCH -0.011354285 -0.01556100 -0.02517127 -3.718184e-03\n",
       "16 2021-01-22 sGARCH -0.011005447 -0.01508863 -0.02441989 -1.508539e-02\n",
       "17 2021-01-25 sGARCH -0.011840229 -0.01621449 -0.02620796 -9.297255e-03\n",
       "18 2021-01-27 sGARCH -0.011855964 -0.01623345 -0.02623044 -1.924448e-02\n",
       "19 2021-01-28 sGARCH -0.013235153 -0.01809812 -0.02920369 -1.079369e-02\n",
       "20 2021-01-29 sGARCH -0.013269110 -0.01813485 -0.02923438 -1.332886e-02"
      ]
     },
     "metadata": {},
     "output_type": "display_data"
    }
   ],
   "source": [
    "head(VaR_nifty50_2021,20)"
   ]
  },
  {
   "cell_type": "markdown",
   "id": "e204fec7",
   "metadata": {},
   "source": [
    "# <font color= orange> **Comparing Accuracy of Models by analysing the results at all 3 levels** </font>"
   ]
  },
  {
   "cell_type": "code",
   "execution_count": 29,
   "id": "b1f385de",
   "metadata": {},
   "outputs": [
    {
     "data": {
      "text/html": [
       "<table class=\"dataframe\">\n",
       "<caption>A data.table: 15 × 4</caption>\n",
       "<thead>\n",
       "\t<tr><th scope=col>model</th><th scope=col>alpha(10%)</th><th scope=col>alpha(5%)</th><th scope=col>alpha(1%)</th></tr>\n",
       "\t<tr><th scope=col>&lt;chr&gt;</th><th scope=col>&lt;dbl&gt;</th><th scope=col>&lt;dbl&gt;</th><th scope=col>&lt;dbl&gt;</th></tr>\n",
       "</thead>\n",
       "<tbody>\n",
       "\t<tr><td>sGARCH                     </td><td>90.72581</td><td>95.56452</td><td>98.38710</td></tr>\n",
       "\t<tr><td>eGARCH                     </td><td>91.12903</td><td>94.75806</td><td>98.38710</td></tr>\n",
       "\t<tr><td>iGARCH                     </td><td>91.12903</td><td>95.56452</td><td>98.38710</td></tr>\n",
       "\t<tr><td>apARCH                     </td><td>91.53226</td><td>94.75806</td><td>98.38710</td></tr>\n",
       "\t<tr><td>gjrGARCH                   </td><td>91.53226</td><td>95.16129</td><td>98.38710</td></tr>\n",
       "\t<tr><td>csGARCH                    </td><td>91.53226</td><td>95.96774</td><td>98.38710</td></tr>\n",
       "\t<tr><td>GARCH                      </td><td>90.72581</td><td>95.56452</td><td>98.38710</td></tr>\n",
       "\t<tr><td>TGARCH                     </td><td>91.12903</td><td>95.16129</td><td>98.38710</td></tr>\n",
       "\t<tr><td>AVGARCH                    </td><td>91.12903</td><td>94.35484</td><td>98.79032</td></tr>\n",
       "\t<tr><td>NGARCH                     </td><td>90.72581</td><td>95.56452</td><td>98.38710</td></tr>\n",
       "\t<tr><td>NAGARCH                    </td><td>90.72581</td><td>94.75806</td><td>98.38710</td></tr>\n",
       "\t<tr><td>APARCH                     </td><td>91.53226</td><td>94.75806</td><td>98.38710</td></tr>\n",
       "\t<tr><td>GJRGARCH                   </td><td>91.53226</td><td>95.16129</td><td>98.38710</td></tr>\n",
       "\t<tr><td>ALLGARCH                   </td><td>91.12903</td><td>95.16129</td><td>98.38710</td></tr>\n",
       "\t<tr><td>Stochastic_Volatility_Model</td><td>86.29032</td><td>92.74194</td><td>98.38710</td></tr>\n",
       "</tbody>\n",
       "</table>\n"
      ],
      "text/latex": [
       "A data.table: 15 × 4\n",
       "\\begin{tabular}{llll}\n",
       " model & alpha(10\\%) & alpha(5\\%) & alpha(1\\%)\\\\\n",
       " <chr> & <dbl> & <dbl> & <dbl>\\\\\n",
       "\\hline\n",
       "\t sGARCH                      & 90.72581 & 95.56452 & 98.38710\\\\\n",
       "\t eGARCH                      & 91.12903 & 94.75806 & 98.38710\\\\\n",
       "\t iGARCH                      & 91.12903 & 95.56452 & 98.38710\\\\\n",
       "\t apARCH                      & 91.53226 & 94.75806 & 98.38710\\\\\n",
       "\t gjrGARCH                    & 91.53226 & 95.16129 & 98.38710\\\\\n",
       "\t csGARCH                     & 91.53226 & 95.96774 & 98.38710\\\\\n",
       "\t GARCH                       & 90.72581 & 95.56452 & 98.38710\\\\\n",
       "\t TGARCH                      & 91.12903 & 95.16129 & 98.38710\\\\\n",
       "\t AVGARCH                     & 91.12903 & 94.35484 & 98.79032\\\\\n",
       "\t NGARCH                      & 90.72581 & 95.56452 & 98.38710\\\\\n",
       "\t NAGARCH                     & 90.72581 & 94.75806 & 98.38710\\\\\n",
       "\t APARCH                      & 91.53226 & 94.75806 & 98.38710\\\\\n",
       "\t GJRGARCH                    & 91.53226 & 95.16129 & 98.38710\\\\\n",
       "\t ALLGARCH                    & 91.12903 & 95.16129 & 98.38710\\\\\n",
       "\t Stochastic\\_Volatility\\_Model & 86.29032 & 92.74194 & 98.38710\\\\\n",
       "\\end{tabular}\n"
      ],
      "text/markdown": [
       "\n",
       "A data.table: 15 × 4\n",
       "\n",
       "| model &lt;chr&gt; | alpha(10%) &lt;dbl&gt; | alpha(5%) &lt;dbl&gt; | alpha(1%) &lt;dbl&gt; |\n",
       "|---|---|---|---|\n",
       "| sGARCH                      | 90.72581 | 95.56452 | 98.38710 |\n",
       "| eGARCH                      | 91.12903 | 94.75806 | 98.38710 |\n",
       "| iGARCH                      | 91.12903 | 95.56452 | 98.38710 |\n",
       "| apARCH                      | 91.53226 | 94.75806 | 98.38710 |\n",
       "| gjrGARCH                    | 91.53226 | 95.16129 | 98.38710 |\n",
       "| csGARCH                     | 91.53226 | 95.96774 | 98.38710 |\n",
       "| GARCH                       | 90.72581 | 95.56452 | 98.38710 |\n",
       "| TGARCH                      | 91.12903 | 95.16129 | 98.38710 |\n",
       "| AVGARCH                     | 91.12903 | 94.35484 | 98.79032 |\n",
       "| NGARCH                      | 90.72581 | 95.56452 | 98.38710 |\n",
       "| NAGARCH                     | 90.72581 | 94.75806 | 98.38710 |\n",
       "| APARCH                      | 91.53226 | 94.75806 | 98.38710 |\n",
       "| GJRGARCH                    | 91.53226 | 95.16129 | 98.38710 |\n",
       "| ALLGARCH                    | 91.12903 | 95.16129 | 98.38710 |\n",
       "| Stochastic_Volatility_Model | 86.29032 | 92.74194 | 98.38710 |\n",
       "\n"
      ],
      "text/plain": [
       "   model                       alpha(10%) alpha(5%) alpha(1%)\n",
       "1  sGARCH                      90.72581   95.56452  98.38710 \n",
       "2  eGARCH                      91.12903   94.75806  98.38710 \n",
       "3  iGARCH                      91.12903   95.56452  98.38710 \n",
       "4  apARCH                      91.53226   94.75806  98.38710 \n",
       "5  gjrGARCH                    91.53226   95.16129  98.38710 \n",
       "6  csGARCH                     91.53226   95.96774  98.38710 \n",
       "7  GARCH                       90.72581   95.56452  98.38710 \n",
       "8  TGARCH                      91.12903   95.16129  98.38710 \n",
       "9  AVGARCH                     91.12903   94.35484  98.79032 \n",
       "10 NGARCH                      90.72581   95.56452  98.38710 \n",
       "11 NAGARCH                     90.72581   94.75806  98.38710 \n",
       "12 APARCH                      91.53226   94.75806  98.38710 \n",
       "13 GJRGARCH                    91.53226   95.16129  98.38710 \n",
       "14 ALLGARCH                    91.12903   95.16129  98.38710 \n",
       "15 Stochastic_Volatility_Model 86.29032   92.74194  98.38710 "
      ]
     },
     "metadata": {},
     "output_type": "display_data"
    }
   ],
   "source": [
    "VaR_nifty50_2021[,lapply(.SD, FUN = function(x){(1-sum(x>realized)/248)*100}), .SDcols=c(3:5), by=model] -> Accuracy_models\n",
    "Accuracy_models\n",
    "\n",
    "# Here is the performance table which tells us about the accuracy of all the models at different intervals"
   ]
  },
  {
   "cell_type": "code",
   "execution_count": 30,
   "id": "4824d565",
   "metadata": {},
   "outputs": [
    {
     "name": "stdout",
     "output_type": "stream",
     "text": [
      "The top performers at 90% confidence interval are:\n"
     ]
    },
    {
     "data": {
      "text/html": [
       "<table class=\"dataframe\">\n",
       "<caption>A data.table: 5 × 2</caption>\n",
       "<thead>\n",
       "\t<tr><th scope=col>model</th><th scope=col>alpha(10%)</th></tr>\n",
       "\t<tr><th scope=col>&lt;chr&gt;</th><th scope=col>&lt;dbl&gt;</th></tr>\n",
       "</thead>\n",
       "<tbody>\n",
       "\t<tr><td>apARCH  </td><td>91.53226</td></tr>\n",
       "\t<tr><td>gjrGARCH</td><td>91.53226</td></tr>\n",
       "\t<tr><td>csGARCH </td><td>91.53226</td></tr>\n",
       "\t<tr><td>APARCH  </td><td>91.53226</td></tr>\n",
       "\t<tr><td>GJRGARCH</td><td>91.53226</td></tr>\n",
       "</tbody>\n",
       "</table>\n"
      ],
      "text/latex": [
       "A data.table: 5 × 2\n",
       "\\begin{tabular}{ll}\n",
       " model & alpha(10\\%)\\\\\n",
       " <chr> & <dbl>\\\\\n",
       "\\hline\n",
       "\t apARCH   & 91.53226\\\\\n",
       "\t gjrGARCH & 91.53226\\\\\n",
       "\t csGARCH  & 91.53226\\\\\n",
       "\t APARCH   & 91.53226\\\\\n",
       "\t GJRGARCH & 91.53226\\\\\n",
       "\\end{tabular}\n"
      ],
      "text/markdown": [
       "\n",
       "A data.table: 5 × 2\n",
       "\n",
       "| model &lt;chr&gt; | alpha(10%) &lt;dbl&gt; |\n",
       "|---|---|\n",
       "| apARCH   | 91.53226 |\n",
       "| gjrGARCH | 91.53226 |\n",
       "| csGARCH  | 91.53226 |\n",
       "| APARCH   | 91.53226 |\n",
       "| GJRGARCH | 91.53226 |\n",
       "\n"
      ],
      "text/plain": [
       "  model    alpha(10%)\n",
       "1 apARCH   91.53226  \n",
       "2 gjrGARCH 91.53226  \n",
       "3 csGARCH  91.53226  \n",
       "4 APARCH   91.53226  \n",
       "5 GJRGARCH 91.53226  "
      ]
     },
     "metadata": {},
     "output_type": "display_data"
    }
   ],
   "source": [
    "cat(\"The top performers at 90% confidence interval are:\\n\")\n",
    "Accuracy_models[`alpha(10%)`==max(`alpha(10%)`), c(1,2)]\n",
    "\n",
    "#So, we can clearly observe that there are 5 models as mentioned below which have performed the best at 90% confidence interval."
   ]
  },
  {
   "cell_type": "code",
   "execution_count": 32,
   "id": "9b1671c6",
   "metadata": {},
   "outputs": [
    {
     "name": "stdout",
     "output_type": "stream",
     "text": [
      "The top performers at 95% confidence interval are:\n"
     ]
    },
    {
     "data": {
      "text/html": [
       "<table class=\"dataframe\">\n",
       "<caption>A data.table: 1 × 2</caption>\n",
       "<thead>\n",
       "\t<tr><th scope=col>model</th><th scope=col>alpha(5%)</th></tr>\n",
       "\t<tr><th scope=col>&lt;chr&gt;</th><th scope=col>&lt;dbl&gt;</th></tr>\n",
       "</thead>\n",
       "<tbody>\n",
       "\t<tr><td>csGARCH</td><td>95.96774</td></tr>\n",
       "</tbody>\n",
       "</table>\n"
      ],
      "text/latex": [
       "A data.table: 1 × 2\n",
       "\\begin{tabular}{ll}\n",
       " model & alpha(5\\%)\\\\\n",
       " <chr> & <dbl>\\\\\n",
       "\\hline\n",
       "\t csGARCH & 95.96774\\\\\n",
       "\\end{tabular}\n"
      ],
      "text/markdown": [
       "\n",
       "A data.table: 1 × 2\n",
       "\n",
       "| model &lt;chr&gt; | alpha(5%) &lt;dbl&gt; |\n",
       "|---|---|\n",
       "| csGARCH | 95.96774 |\n",
       "\n"
      ],
      "text/plain": [
       "  model   alpha(5%)\n",
       "1 csGARCH 95.96774 "
      ]
     },
     "metadata": {},
     "output_type": "display_data"
    }
   ],
   "source": [
    "cat(\"The top performers at 95% confidence interval are:\\n\")\n",
    "Accuracy_models[`alpha(5%)`==max(`alpha(5%)`), c(1,3)]\n",
    "\n",
    "# csGARCH has outperformed all other models with 95.97% accuarcy at 95% interval."
   ]
  },
  {
   "cell_type": "code",
   "execution_count": 33,
   "id": "041e2604",
   "metadata": {},
   "outputs": [
    {
     "name": "stdout",
     "output_type": "stream",
     "text": [
      "The top performers at 99% confidence interval are:\n"
     ]
    },
    {
     "data": {
      "text/html": [
       "<table class=\"dataframe\">\n",
       "<caption>A data.table: 1 × 2</caption>\n",
       "<thead>\n",
       "\t<tr><th scope=col>model</th><th scope=col>alpha(1%)</th></tr>\n",
       "\t<tr><th scope=col>&lt;chr&gt;</th><th scope=col>&lt;dbl&gt;</th></tr>\n",
       "</thead>\n",
       "<tbody>\n",
       "\t<tr><td>AVGARCH</td><td>98.79032</td></tr>\n",
       "</tbody>\n",
       "</table>\n"
      ],
      "text/latex": [
       "A data.table: 1 × 2\n",
       "\\begin{tabular}{ll}\n",
       " model & alpha(1\\%)\\\\\n",
       " <chr> & <dbl>\\\\\n",
       "\\hline\n",
       "\t AVGARCH & 98.79032\\\\\n",
       "\\end{tabular}\n"
      ],
      "text/markdown": [
       "\n",
       "A data.table: 1 × 2\n",
       "\n",
       "| model &lt;chr&gt; | alpha(1%) &lt;dbl&gt; |\n",
       "|---|---|\n",
       "| AVGARCH | 98.79032 |\n",
       "\n"
      ],
      "text/plain": [
       "  model   alpha(1%)\n",
       "1 AVGARCH 98.79032 "
      ]
     },
     "metadata": {},
     "output_type": "display_data"
    }
   ],
   "source": [
    "cat(\"The top performers at 99% confidence interval are:\\n\")\n",
    "Accuracy_models[`alpha(1%)`==max(`alpha(1%)`), c(1,4)]\n",
    "\n",
    "# AVGARCH has outperfomed all other models with 98.79% accuracy at 99% interval."
   ]
  },
  {
   "cell_type": "code",
   "execution_count": 34,
   "id": "e846bb73",
   "metadata": {},
   "outputs": [
    {
     "data": {
      "text/html": [
       "<style>\n",
       ".dl-inline {width: auto; margin:0; padding: 0}\n",
       ".dl-inline>dt, .dl-inline>dd {float: none; width: auto; display: inline-block}\n",
       ".dl-inline>dt::after {content: \":\\0020\"; padding-right: .5ex}\n",
       ".dl-inline>dt:not(:first-of-type) {padding-left: .5ex}\n",
       "</style><dl class=dl-inline><dt>date</dt><dd>'Date'</dd><dt>model</dt><dd>'character'</dd><dt>alpha(10%)</dt><dd>'numeric'</dd><dt>alpha(5%)</dt><dd>'numeric'</dd><dt>alpha(1%)</dt><dd>'numeric'</dd><dt>realized</dt><dd>'numeric'</dd></dl>\n"
      ],
      "text/latex": [
       "\\begin{description*}\n",
       "\\item[date] 'Date'\n",
       "\\item[model] 'character'\n",
       "\\item[alpha(10\\textbackslash{}\\%)] 'numeric'\n",
       "\\item[alpha(5\\textbackslash{}\\%)] 'numeric'\n",
       "\\item[alpha(1\\textbackslash{}\\%)] 'numeric'\n",
       "\\item[realized] 'numeric'\n",
       "\\end{description*}\n"
      ],
      "text/markdown": [
       "date\n",
       ":   'Date'model\n",
       ":   'character'alpha(10%)\n",
       ":   'numeric'alpha(5%)\n",
       ":   'numeric'alpha(1%)\n",
       ":   'numeric'realized\n",
       ":   'numeric'\n",
       "\n"
      ],
      "text/plain": [
       "       date       model  alpha(10%)   alpha(5%)   alpha(1%)    realized \n",
       "     \"Date\" \"character\"   \"numeric\"   \"numeric\"   \"numeric\"   \"numeric\" "
      ]
     },
     "metadata": {},
     "output_type": "display_data"
    },
    {
     "data": {
      "text/html": [
       "3720"
      ],
      "text/latex": [
       "3720"
      ],
      "text/markdown": [
       "3720"
      ],
      "text/plain": [
       "[1] 3720"
      ]
     },
     "metadata": {},
     "output_type": "display_data"
    }
   ],
   "source": [
    "sapply(VaR_nifty50_2021,class)\n",
    "nrow(VaR_nifty50_2021)"
   ]
  },
  {
   "cell_type": "markdown",
   "id": "1b24fb81",
   "metadata": {},
   "source": [
    "# <font color=brown> **Melting and Converting data into Long format for plotting using ggplot2** </font>"
   ]
  },
  {
   "cell_type": "code",
   "execution_count": 35,
   "id": "a1d620e9",
   "metadata": {},
   "outputs": [],
   "source": [
    "melt(VaR_nifty50_2021, id=c(\"date\",\"model\",\"realized\")) -> VaR_nifty50_2021_long"
   ]
  },
  {
   "cell_type": "code",
   "execution_count": 36,
   "id": "87e2801a",
   "metadata": {},
   "outputs": [
    {
     "data": {
      "text/html": [
       "11160"
      ],
      "text/latex": [
       "11160"
      ],
      "text/markdown": [
       "11160"
      ],
      "text/plain": [
       "[1] 11160"
      ]
     },
     "metadata": {},
     "output_type": "display_data"
    },
    {
     "data": {
      "text/html": [
       "<table class=\"dataframe\">\n",
       "<caption>A data.table: 20 × 5</caption>\n",
       "<thead>\n",
       "\t<tr><th scope=col>date</th><th scope=col>model</th><th scope=col>realized</th><th scope=col>variable</th><th scope=col>value</th></tr>\n",
       "\t<tr><th scope=col>&lt;date&gt;</th><th scope=col>&lt;chr&gt;</th><th scope=col>&lt;dbl&gt;</th><th scope=col>&lt;fct&gt;</th><th scope=col>&lt;dbl&gt;</th></tr>\n",
       "</thead>\n",
       "<tbody>\n",
       "\t<tr><td>2021-01-01</td><td>sGARCH</td><td> 2.624978e-03</td><td>alpha(10%)</td><td>-0.011694823</td></tr>\n",
       "\t<tr><td>2021-01-04</td><td>sGARCH</td><td> 8.127555e-03</td><td>alpha(10%)</td><td>-0.011256192</td></tr>\n",
       "\t<tr><td>2021-01-05</td><td>sGARCH</td><td> 4.701312e-03</td><td>alpha(10%)</td><td>-0.011110752</td></tr>\n",
       "\t<tr><td>2021-01-06</td><td>sGARCH</td><td>-3.757181e-03</td><td>alpha(10%)</td><td>-0.010760830</td></tr>\n",
       "\t<tr><td>2021-01-07</td><td>sGARCH</td><td>-6.293676e-04</td><td>alpha(10%)</td><td>-0.010451010</td></tr>\n",
       "\t<tr><td>2021-01-08</td><td>sGARCH</td><td> 1.473808e-02</td><td>alpha(10%)</td><td>-0.010064166</td></tr>\n",
       "\t<tr><td>2021-01-11</td><td>sGARCH</td><td> 9.538086e-03</td><td>alpha(10%)</td><td>-0.010800314</td></tr>\n",
       "\t<tr><td>2021-01-12</td><td>sGARCH</td><td> 5.418607e-03</td><td>alpha(10%)</td><td>-0.010814149</td></tr>\n",
       "\t<tr><td>2021-01-13</td><td>sGARCH</td><td> 9.608621e-05</td><td>alpha(10%)</td><td>-0.010520958</td></tr>\n",
       "\t<tr><td>2021-01-14</td><td>sGARCH</td><td> 2.109022e-03</td><td>alpha(10%)</td><td>-0.010114235</td></tr>\n",
       "\t<tr><td>2021-01-15</td><td>sGARCH</td><td>-1.115432e-02</td><td>alpha(10%)</td><td>-0.009754895</td></tr>\n",
       "\t<tr><td>2021-01-18</td><td>sGARCH</td><td>-1.061479e-02</td><td>alpha(10%)</td><td>-0.010204282</td></tr>\n",
       "\t<tr><td>2021-01-19</td><td>sGARCH</td><td> 1.665526e-02</td><td>alpha(10%)</td><td>-0.010532046</td></tr>\n",
       "\t<tr><td>2021-01-20</td><td>sGARCH</td><td> 8.472274e-03</td><td>alpha(10%)</td><td>-0.011486810</td></tr>\n",
       "\t<tr><td>2021-01-21</td><td>sGARCH</td><td>-3.718184e-03</td><td>alpha(10%)</td><td>-0.011354285</td></tr>\n",
       "\t<tr><td>2021-01-22</td><td>sGARCH</td><td>-1.508539e-02</td><td>alpha(10%)</td><td>-0.011005447</td></tr>\n",
       "\t<tr><td>2021-01-25</td><td>sGARCH</td><td>-9.297255e-03</td><td>alpha(10%)</td><td>-0.011840229</td></tr>\n",
       "\t<tr><td>2021-01-27</td><td>sGARCH</td><td>-1.924448e-02</td><td>alpha(10%)</td><td>-0.011855964</td></tr>\n",
       "\t<tr><td>2021-01-28</td><td>sGARCH</td><td>-1.079369e-02</td><td>alpha(10%)</td><td>-0.013235153</td></tr>\n",
       "\t<tr><td>2021-01-29</td><td>sGARCH</td><td>-1.332886e-02</td><td>alpha(10%)</td><td>-0.013269110</td></tr>\n",
       "</tbody>\n",
       "</table>\n"
      ],
      "text/latex": [
       "A data.table: 20 × 5\n",
       "\\begin{tabular}{lllll}\n",
       " date & model & realized & variable & value\\\\\n",
       " <date> & <chr> & <dbl> & <fct> & <dbl>\\\\\n",
       "\\hline\n",
       "\t 2021-01-01 & sGARCH &  2.624978e-03 & alpha(10\\%) & -0.011694823\\\\\n",
       "\t 2021-01-04 & sGARCH &  8.127555e-03 & alpha(10\\%) & -0.011256192\\\\\n",
       "\t 2021-01-05 & sGARCH &  4.701312e-03 & alpha(10\\%) & -0.011110752\\\\\n",
       "\t 2021-01-06 & sGARCH & -3.757181e-03 & alpha(10\\%) & -0.010760830\\\\\n",
       "\t 2021-01-07 & sGARCH & -6.293676e-04 & alpha(10\\%) & -0.010451010\\\\\n",
       "\t 2021-01-08 & sGARCH &  1.473808e-02 & alpha(10\\%) & -0.010064166\\\\\n",
       "\t 2021-01-11 & sGARCH &  9.538086e-03 & alpha(10\\%) & -0.010800314\\\\\n",
       "\t 2021-01-12 & sGARCH &  5.418607e-03 & alpha(10\\%) & -0.010814149\\\\\n",
       "\t 2021-01-13 & sGARCH &  9.608621e-05 & alpha(10\\%) & -0.010520958\\\\\n",
       "\t 2021-01-14 & sGARCH &  2.109022e-03 & alpha(10\\%) & -0.010114235\\\\\n",
       "\t 2021-01-15 & sGARCH & -1.115432e-02 & alpha(10\\%) & -0.009754895\\\\\n",
       "\t 2021-01-18 & sGARCH & -1.061479e-02 & alpha(10\\%) & -0.010204282\\\\\n",
       "\t 2021-01-19 & sGARCH &  1.665526e-02 & alpha(10\\%) & -0.010532046\\\\\n",
       "\t 2021-01-20 & sGARCH &  8.472274e-03 & alpha(10\\%) & -0.011486810\\\\\n",
       "\t 2021-01-21 & sGARCH & -3.718184e-03 & alpha(10\\%) & -0.011354285\\\\\n",
       "\t 2021-01-22 & sGARCH & -1.508539e-02 & alpha(10\\%) & -0.011005447\\\\\n",
       "\t 2021-01-25 & sGARCH & -9.297255e-03 & alpha(10\\%) & -0.011840229\\\\\n",
       "\t 2021-01-27 & sGARCH & -1.924448e-02 & alpha(10\\%) & -0.011855964\\\\\n",
       "\t 2021-01-28 & sGARCH & -1.079369e-02 & alpha(10\\%) & -0.013235153\\\\\n",
       "\t 2021-01-29 & sGARCH & -1.332886e-02 & alpha(10\\%) & -0.013269110\\\\\n",
       "\\end{tabular}\n"
      ],
      "text/markdown": [
       "\n",
       "A data.table: 20 × 5\n",
       "\n",
       "| date &lt;date&gt; | model &lt;chr&gt; | realized &lt;dbl&gt; | variable &lt;fct&gt; | value &lt;dbl&gt; |\n",
       "|---|---|---|---|---|\n",
       "| 2021-01-01 | sGARCH |  2.624978e-03 | alpha(10%) | -0.011694823 |\n",
       "| 2021-01-04 | sGARCH |  8.127555e-03 | alpha(10%) | -0.011256192 |\n",
       "| 2021-01-05 | sGARCH |  4.701312e-03 | alpha(10%) | -0.011110752 |\n",
       "| 2021-01-06 | sGARCH | -3.757181e-03 | alpha(10%) | -0.010760830 |\n",
       "| 2021-01-07 | sGARCH | -6.293676e-04 | alpha(10%) | -0.010451010 |\n",
       "| 2021-01-08 | sGARCH |  1.473808e-02 | alpha(10%) | -0.010064166 |\n",
       "| 2021-01-11 | sGARCH |  9.538086e-03 | alpha(10%) | -0.010800314 |\n",
       "| 2021-01-12 | sGARCH |  5.418607e-03 | alpha(10%) | -0.010814149 |\n",
       "| 2021-01-13 | sGARCH |  9.608621e-05 | alpha(10%) | -0.010520958 |\n",
       "| 2021-01-14 | sGARCH |  2.109022e-03 | alpha(10%) | -0.010114235 |\n",
       "| 2021-01-15 | sGARCH | -1.115432e-02 | alpha(10%) | -0.009754895 |\n",
       "| 2021-01-18 | sGARCH | -1.061479e-02 | alpha(10%) | -0.010204282 |\n",
       "| 2021-01-19 | sGARCH |  1.665526e-02 | alpha(10%) | -0.010532046 |\n",
       "| 2021-01-20 | sGARCH |  8.472274e-03 | alpha(10%) | -0.011486810 |\n",
       "| 2021-01-21 | sGARCH | -3.718184e-03 | alpha(10%) | -0.011354285 |\n",
       "| 2021-01-22 | sGARCH | -1.508539e-02 | alpha(10%) | -0.011005447 |\n",
       "| 2021-01-25 | sGARCH | -9.297255e-03 | alpha(10%) | -0.011840229 |\n",
       "| 2021-01-27 | sGARCH | -1.924448e-02 | alpha(10%) | -0.011855964 |\n",
       "| 2021-01-28 | sGARCH | -1.079369e-02 | alpha(10%) | -0.013235153 |\n",
       "| 2021-01-29 | sGARCH | -1.332886e-02 | alpha(10%) | -0.013269110 |\n",
       "\n"
      ],
      "text/plain": [
       "   date       model  realized      variable   value       \n",
       "1  2021-01-01 sGARCH  2.624978e-03 alpha(10%) -0.011694823\n",
       "2  2021-01-04 sGARCH  8.127555e-03 alpha(10%) -0.011256192\n",
       "3  2021-01-05 sGARCH  4.701312e-03 alpha(10%) -0.011110752\n",
       "4  2021-01-06 sGARCH -3.757181e-03 alpha(10%) -0.010760830\n",
       "5  2021-01-07 sGARCH -6.293676e-04 alpha(10%) -0.010451010\n",
       "6  2021-01-08 sGARCH  1.473808e-02 alpha(10%) -0.010064166\n",
       "7  2021-01-11 sGARCH  9.538086e-03 alpha(10%) -0.010800314\n",
       "8  2021-01-12 sGARCH  5.418607e-03 alpha(10%) -0.010814149\n",
       "9  2021-01-13 sGARCH  9.608621e-05 alpha(10%) -0.010520958\n",
       "10 2021-01-14 sGARCH  2.109022e-03 alpha(10%) -0.010114235\n",
       "11 2021-01-15 sGARCH -1.115432e-02 alpha(10%) -0.009754895\n",
       "12 2021-01-18 sGARCH -1.061479e-02 alpha(10%) -0.010204282\n",
       "13 2021-01-19 sGARCH  1.665526e-02 alpha(10%) -0.010532046\n",
       "14 2021-01-20 sGARCH  8.472274e-03 alpha(10%) -0.011486810\n",
       "15 2021-01-21 sGARCH -3.718184e-03 alpha(10%) -0.011354285\n",
       "16 2021-01-22 sGARCH -1.508539e-02 alpha(10%) -0.011005447\n",
       "17 2021-01-25 sGARCH -9.297255e-03 alpha(10%) -0.011840229\n",
       "18 2021-01-27 sGARCH -1.924448e-02 alpha(10%) -0.011855964\n",
       "19 2021-01-28 sGARCH -1.079369e-02 alpha(10%) -0.013235153\n",
       "20 2021-01-29 sGARCH -1.332886e-02 alpha(10%) -0.013269110"
      ]
     },
     "metadata": {},
     "output_type": "display_data"
    }
   ],
   "source": [
    "nrow(VaR_nifty50_2021_long)\n",
    "head(VaR_nifty50_2021_long,20)"
   ]
  },
  {
   "cell_type": "code",
   "execution_count": 37,
   "id": "c01c3518",
   "metadata": {},
   "outputs": [],
   "source": [
    "library(ggplot2)\n",
    "\n",
    "VaR_nifty50_2021_long[,variable:=as.character(variable)]"
   ]
  },
  {
   "cell_type": "code",
   "execution_count": 41,
   "id": "15435086",
   "metadata": {},
   "outputs": [
    {
     "data": {
      "image/png": "[encoded data removed]",
      "text/plain": [
       "plot without title"
      ]
     },
     "metadata": {
      "image/png": {
       "height": 420,
       "width": 420
      }
     },
     "output_type": "display_data"
    }
   ],
   "source": [
    "ggplot(VaR_nifty50_2021_long, aes(x=date)) +\n",
    "geom_col(aes(y=realized), fill=\"cyan\", col=\"#02f7df\") +\n",
    "geom_line(aes(y=value, color=variable), size=1.25) +\n",
    "facet_wrap(~model) +\n",
    "theme_bw() +\n",
    "theme(axis.text.x=element_text(angle=90)) +\n",
    "labs(x=\"Months\", y=\"Log-Returns\", title = \"Comparison of different Volatility Forecasting Models on predicting VaR for NIFTY50\")"
   ]
  },
  {
   "cell_type": "code",
   "execution_count": 43,
   "id": "b7fc8818",
   "metadata": {},
   "outputs": [
    {
     "data": {
      "image/png": "[encoded data removed]",
      "text/plain": [
       "plot without title"
      ]
     },
     "metadata": {
      "image/png": {
       "height": 420,
       "width": 420
      }
     },
     "output_type": "display_data"
    }
   ],
   "source": [
    "ggplot(VaR_nifty50_2021_long, aes(x=date)) +\n",
    "geom_col(aes(y=realized), fill=\"cyan\", col=\"#02f7df\") +\n",
    "geom_line(aes(y=value, color=model), size=1.25) +\n",
    "facet_wrap(~variable) +\n",
    "theme_bw() +\n",
    "theme(axis.text.x = element_text(angle=90)) +\n",
    "labs(x=\"Months\", y=\"Log-Returns\", title = \"Comparison of different Volatility Forecasting Models on predicting VaR(90%,95%,99%) for NIFTY50\")"
   ]
  },
  {
   "cell_type": "code",
   "execution_count": 44,
   "id": "39c5285e",
   "metadata": {},
   "outputs": [
    {
     "data": {
      "text/html": [
       "<table class=\"dataframe\">\n",
       "<caption>A data.table: 15 × 4</caption>\n",
       "<thead>\n",
       "\t<tr><th scope=col>model</th><th scope=col>alpha(10%)</th><th scope=col>alpha(5%)</th><th scope=col>alpha(1%)</th></tr>\n",
       "\t<tr><th scope=col>&lt;chr&gt;</th><th scope=col>&lt;int&gt;</th><th scope=col>&lt;int&gt;</th><th scope=col>&lt;int&gt;</th></tr>\n",
       "</thead>\n",
       "<tbody>\n",
       "\t<tr><td>sGARCH                     </td><td>23</td><td>11</td><td>4</td></tr>\n",
       "\t<tr><td>eGARCH                     </td><td>22</td><td>13</td><td>4</td></tr>\n",
       "\t<tr><td>iGARCH                     </td><td>22</td><td>11</td><td>4</td></tr>\n",
       "\t<tr><td>apARCH                     </td><td>21</td><td>13</td><td>4</td></tr>\n",
       "\t<tr><td>gjrGARCH                   </td><td>21</td><td>12</td><td>4</td></tr>\n",
       "\t<tr><td>csGARCH                    </td><td>21</td><td>10</td><td>4</td></tr>\n",
       "\t<tr><td>GARCH                      </td><td>23</td><td>11</td><td>4</td></tr>\n",
       "\t<tr><td>TGARCH                     </td><td>22</td><td>12</td><td>4</td></tr>\n",
       "\t<tr><td>AVGARCH                    </td><td>22</td><td>14</td><td>3</td></tr>\n",
       "\t<tr><td>NGARCH                     </td><td>23</td><td>11</td><td>4</td></tr>\n",
       "\t<tr><td>NAGARCH                    </td><td>23</td><td>13</td><td>4</td></tr>\n",
       "\t<tr><td>APARCH                     </td><td>21</td><td>13</td><td>4</td></tr>\n",
       "\t<tr><td>GJRGARCH                   </td><td>21</td><td>12</td><td>4</td></tr>\n",
       "\t<tr><td>ALLGARCH                   </td><td>22</td><td>12</td><td>4</td></tr>\n",
       "\t<tr><td>Stochastic_Volatility_Model</td><td>34</td><td>18</td><td>4</td></tr>\n",
       "</tbody>\n",
       "</table>\n"
      ],
      "text/latex": [
       "A data.table: 15 × 4\n",
       "\\begin{tabular}{llll}\n",
       " model & alpha(10\\%) & alpha(5\\%) & alpha(1\\%)\\\\\n",
       " <chr> & <int> & <int> & <int>\\\\\n",
       "\\hline\n",
       "\t sGARCH                      & 23 & 11 & 4\\\\\n",
       "\t eGARCH                      & 22 & 13 & 4\\\\\n",
       "\t iGARCH                      & 22 & 11 & 4\\\\\n",
       "\t apARCH                      & 21 & 13 & 4\\\\\n",
       "\t gjrGARCH                    & 21 & 12 & 4\\\\\n",
       "\t csGARCH                     & 21 & 10 & 4\\\\\n",
       "\t GARCH                       & 23 & 11 & 4\\\\\n",
       "\t TGARCH                      & 22 & 12 & 4\\\\\n",
       "\t AVGARCH                     & 22 & 14 & 3\\\\\n",
       "\t NGARCH                      & 23 & 11 & 4\\\\\n",
       "\t NAGARCH                     & 23 & 13 & 4\\\\\n",
       "\t APARCH                      & 21 & 13 & 4\\\\\n",
       "\t GJRGARCH                    & 21 & 12 & 4\\\\\n",
       "\t ALLGARCH                    & 22 & 12 & 4\\\\\n",
       "\t Stochastic\\_Volatility\\_Model & 34 & 18 & 4\\\\\n",
       "\\end{tabular}\n"
      ],
      "text/markdown": [
       "\n",
       "A data.table: 15 × 4\n",
       "\n",
       "| model &lt;chr&gt; | alpha(10%) &lt;int&gt; | alpha(5%) &lt;int&gt; | alpha(1%) &lt;int&gt; |\n",
       "|---|---|---|---|\n",
       "| sGARCH                      | 23 | 11 | 4 |\n",
       "| eGARCH                      | 22 | 13 | 4 |\n",
       "| iGARCH                      | 22 | 11 | 4 |\n",
       "| apARCH                      | 21 | 13 | 4 |\n",
       "| gjrGARCH                    | 21 | 12 | 4 |\n",
       "| csGARCH                     | 21 | 10 | 4 |\n",
       "| GARCH                       | 23 | 11 | 4 |\n",
       "| TGARCH                      | 22 | 12 | 4 |\n",
       "| AVGARCH                     | 22 | 14 | 3 |\n",
       "| NGARCH                      | 23 | 11 | 4 |\n",
       "| NAGARCH                     | 23 | 13 | 4 |\n",
       "| APARCH                      | 21 | 13 | 4 |\n",
       "| GJRGARCH                    | 21 | 12 | 4 |\n",
       "| ALLGARCH                    | 22 | 12 | 4 |\n",
       "| Stochastic_Volatility_Model | 34 | 18 | 4 |\n",
       "\n"
      ],
      "text/plain": [
       "   model                       alpha(10%) alpha(5%) alpha(1%)\n",
       "1  sGARCH                      23         11        4        \n",
       "2  eGARCH                      22         13        4        \n",
       "3  iGARCH                      22         11        4        \n",
       "4  apARCH                      21         13        4        \n",
       "5  gjrGARCH                    21         12        4        \n",
       "6  csGARCH                     21         10        4        \n",
       "7  GARCH                       23         11        4        \n",
       "8  TGARCH                      22         12        4        \n",
       "9  AVGARCH                     22         14        3        \n",
       "10 NGARCH                      23         11        4        \n",
       "11 NAGARCH                     23         13        4        \n",
       "12 APARCH                      21         13        4        \n",
       "13 GJRGARCH                    21         12        4        \n",
       "14 ALLGARCH                    22         12        4        \n",
       "15 Stochastic_Volatility_Model 34         18        4        "
      ]
     },
     "metadata": {},
     "output_type": "display_data"
    }
   ],
   "source": [
    "# Number of days each model has breached the various confidence bars (out of 248 trading days)\n",
    "\n",
    "VaR_nifty50_2021[,lapply(.SD, FUN = function(x){sum(x>realized)}), .SDcols=c(3:5), by=model]"
   ]
  },
  {
   "cell_type": "code",
   "execution_count": 48,
   "id": "7fba8cd1",
   "metadata": {},
   "outputs": [],
   "source": [
    "# Saving the result data tables in Excel(.xlsx) format\n",
    "\n",
    "require(openxlsx)\n",
    "list_of_datasets <- list(\"GARCH-(1,1)_variants_Results\" = VaR_nifty50_garch_2021, \"fGARCH_subvariants_Results\" = VaR_nifty50_fgarch_2021, \"Stochastic_Volatility_Model\" = VaR_nifty50_stochvol_2021, \"Cumulative_Res_of_all_15models\" = VaR_nifty50_2021)\n",
    "write.xlsx(list_of_datasets, file = \"Comparison of GARCH-(1,1) variants and Stochastic Volatility Model.xlsx\")"
   ]
  },
  {
   "cell_type": "markdown",
   "id": "94afbe6c",
   "metadata": {},
   "source": [
    "# <font color = indigo> **CONCLUSION:** </font>\n",
    "\n",
    "### <font color = Magenta> We have compared the performance of the various available GARCH variants in rugarch package. These models are all deterministic ones. We have compared these to Stochastic Volatility Model in stochvol package. The GARCH variants have clearly outperformed the Stochastic Volatility Model which breached the 90% confidence bar 34 days, 95% confidence bar 18 days and 99% confidence bar 4 days out of 248 trading days in the year 2021 on NIFTY50 returns. "
   ]
  }
 ],
 "metadata": {
  "kernelspec": {
   "display_name": "R",
   "language": "R",
   "name": "ir"
  },
  "language_info": {
   "codemirror_mode": "r",
   "file_extension": ".r",
   "mimetype": "text/x-r-source",
   "name": "R",
   "pygments_lexer": "r",
   "version": "4.0.5"
  }
 },
 "nbformat": 4,
 "nbformat_minor": 5
}
